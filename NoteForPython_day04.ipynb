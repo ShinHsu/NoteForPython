{
 "cells": [
  {
   "cell_type": "code",
   "execution_count": 1,
   "metadata": {},
   "outputs": [],
   "source": [
    "def drawTriangle(n):\n",
    "    i = 0\n",
    "    while i < n:\n",
    "        print(' ' * (n-i) + '*' * (i*2+1))\n",
    "        i += 1\n"
   ]
  },
  {
   "cell_type": "code",
   "execution_count": 2,
   "metadata": {},
   "outputs": [
    {
     "name": "stdout",
     "output_type": "stream",
     "text": [
      "   *\n",
      "  ***\n",
      " *****\n"
     ]
    }
   ],
   "source": [
    "drawTriangle(3)"
   ]
  },
  {
   "cell_type": "code",
   "execution_count": 3,
   "metadata": {},
   "outputs": [
    {
     "name": "stdout",
     "output_type": "stream",
     "text": [
      "21.874999999999996\n"
     ]
    }
   ],
   "source": [
    "def getBMI(w, h):\n",
    "    print(w / h ** 2)\n",
    "    \n",
    "BMI = getBMI(56, 1.6)"
   ]
  },
  {
   "cell_type": "code",
   "execution_count": 6,
   "metadata": {},
   "outputs": [
    {
     "data": {
      "text/plain": [
       "NoneType"
      ]
     },
     "execution_count": 6,
     "metadata": {},
     "output_type": "execute_result"
    }
   ],
   "source": [
    "type(BMI)"
   ]
  },
  {
   "cell_type": "code",
   "execution_count": 7,
   "metadata": {},
   "outputs": [
    {
     "data": {
      "text/plain": [
       "-20"
      ]
     },
     "execution_count": 7,
     "metadata": {},
     "output_type": "execute_result"
    }
   ],
   "source": [
    "def funcEX(b):\n",
    "    b = a + b\n",
    "    return b\n",
    "\n",
    "a = -10\n",
    "a = funcEX(a)\n",
    "\n",
    "a"
   ]
  },
  {
   "cell_type": "code",
   "execution_count": 8,
   "metadata": {},
   "outputs": [
    {
     "ename": "NameError",
     "evalue": "name 'a' is not defined",
     "output_type": "error",
     "traceback": [
      "\u001b[0;31m---------------------------------------------------------------------------\u001b[0m",
      "\u001b[0;31mNameError\u001b[0m                                 Traceback (most recent call last)",
      "\u001b[0;32m<ipython-input-8-6c7e8a5ab9f8>\u001b[0m in \u001b[0;36m<module>\u001b[0;34m()\u001b[0m\n\u001b[1;32m      1\u001b[0m \u001b[0;32mdel\u001b[0m \u001b[0ma\u001b[0m\u001b[0;34m\u001b[0m\u001b[0m\n\u001b[0;32m----> 2\u001b[0;31m \u001b[0mfuncEX\u001b[0m\u001b[0;34m(\u001b[0m\u001b[0;36m3\u001b[0m\u001b[0;34m)\u001b[0m\u001b[0;34m\u001b[0m\u001b[0m\n\u001b[0m",
      "\u001b[0;32m<ipython-input-7-88ef6a4a6dc9>\u001b[0m in \u001b[0;36mfuncEX\u001b[0;34m(b)\u001b[0m\n\u001b[1;32m      1\u001b[0m \u001b[0;32mdef\u001b[0m \u001b[0mfuncEX\u001b[0m\u001b[0;34m(\u001b[0m\u001b[0mb\u001b[0m\u001b[0;34m)\u001b[0m\u001b[0;34m:\u001b[0m\u001b[0;34m\u001b[0m\u001b[0m\n\u001b[0;32m----> 2\u001b[0;31m     \u001b[0mb\u001b[0m \u001b[0;34m=\u001b[0m \u001b[0ma\u001b[0m \u001b[0;34m+\u001b[0m \u001b[0mb\u001b[0m\u001b[0;34m\u001b[0m\u001b[0m\n\u001b[0m\u001b[1;32m      3\u001b[0m     \u001b[0;32mreturn\u001b[0m \u001b[0mb\u001b[0m\u001b[0;34m\u001b[0m\u001b[0m\n\u001b[1;32m      4\u001b[0m \u001b[0;34m\u001b[0m\u001b[0m\n\u001b[1;32m      5\u001b[0m \u001b[0ma\u001b[0m \u001b[0;34m=\u001b[0m \u001b[0;34m-\u001b[0m\u001b[0;36m10\u001b[0m\u001b[0;34m\u001b[0m\u001b[0m\n",
      "\u001b[0;31mNameError\u001b[0m: name 'a' is not defined"
     ]
    }
   ],
   "source": [
    "del a\n",
    "\n",
    "funcEX(3)"
   ]
  },
  {
   "cell_type": "code",
   "execution_count": 1,
   "metadata": {},
   "outputs": [
    {
     "name": "stdout",
     "output_type": "stream",
     "text": [
      "Do you want be X or O? O\n",
      "+---+---+---+\n",
      "|   |   |   |\n",
      "+---+---+---+\n",
      "|   |   |   |\n",
      "+---+---+---+\n",
      "|   |   |   |\n",
      "+---+---+---+\n",
      "The player will go first\n",
      "What is your next move? (1-9) 3\n",
      "+---+---+---+\n",
      "|   |   |   |\n",
      "+---+---+---+\n",
      "|   |   |   |\n",
      "+---+---+---+\n",
      "|   |   | O |\n",
      "+---+---+---+\n",
      "+---+---+---+\n",
      "|   |   |   |\n",
      "+---+---+---+\n",
      "|   | X |   |\n",
      "+---+---+---+\n",
      "|   |   | O |\n",
      "+---+---+---+\n",
      "What is your next move? (1-9) 5\n",
      "그 자리에는 놓을 수 없습니다. \n",
      "What is your next move? (1-9) 6\n",
      "+---+---+---+\n",
      "|   |   |   |\n",
      "+---+---+---+\n",
      "|   | X | O |\n",
      "+---+---+---+\n",
      "|   |   | O |\n",
      "+---+---+---+\n",
      "+---+---+---+\n",
      "| X |   |   |\n",
      "+---+---+---+\n",
      "|   | X | O |\n",
      "+---+---+---+\n",
      "|   |   | O |\n",
      "+---+---+---+\n",
      "What is your next move? (1-9) 9\n",
      "+---+---+---+\n",
      "| X |   | O |\n",
      "+---+---+---+\n",
      "|   | X | O |\n",
      "+---+---+---+\n",
      "|   |   | O |\n",
      "+---+---+---+\n",
      "Player가 이겼습니다.\n",
      "Do you want to play again(Y/N)? N\n"
     ]
    }
   ],
   "source": [
    "import random \n",
    "\n",
    "\n",
    "def drawBoard(board):\n",
    "    print('+---+---+---+')\n",
    "    print('| '+board[7]+' | '+board[8]+' | '+board[9]+' |')\n",
    "    print('+---+---+---+')\n",
    "    print('| '+board[4]+' | '+board[5]+' | '+board[6]+' |')\n",
    "    print('+---+---+---+')\n",
    "    print('| '+board[1]+' | '+board[2]+' | '+board[3]+' |')\n",
    "    print('+---+---+---+')\n",
    "    \n",
    "\n",
    "#board에서 move의 위치가 비어있는 지 확인\n",
    "def isSpaceFree(board, move):\n",
    "    return board[move] == ' '\n",
    "\n",
    "#board 내 move의 위치에 letter 추가\n",
    "def makeMove(board, letter, move):\n",
    "    board[move] = letter\n",
    "\n",
    "\n",
    "#board 내 move의 위치에 letter 삭제\n",
    "def undoMove(board, move):\n",
    "    board[move] = ' '\n",
    "\n",
    "\n",
    "#5,7,9,1,3,8,4,2,6 순으로 빈자리에 넣기\n",
    "#두면 이길 수 있는 위치 반환\n",
    "def getComputerMove(board, computerLetter):\n",
    "    winner = 0\n",
    "    for i in range(10):\n",
    "        if isSpaceFree(board, i):\n",
    "            makeMove(board, computerLetter, i)\n",
    "            if isWin(board, computerLetter):\n",
    "                winner = 1; break\n",
    "            else :\n",
    "                undoMove(board, i)\n",
    "\n",
    "    #strategy 2\n",
    "    if winner == 0 :\n",
    "        for i in [5, 7, 9, 1, 3, 8, 4, 2, 6]:\n",
    "            if (isSpaceFree(board, i)):\n",
    "                makeMove(board, computerLetter, i)\n",
    "                break\n",
    "                \n",
    "    drawBoard(board)\n",
    "\n",
    "    \n",
    "def getPlayerMove(board, playerLetter):\n",
    "    while True:\n",
    "        move = int(input('What is your next move? (1-9) '))\n",
    "        if isSpaceFree(board, move):\n",
    "            makeMove(board, playerLetter, move)\n",
    "            break\n",
    "        else: \n",
    "            print('그 자리에는 놓을 수 없습니다. ')\n",
    "            \n",
    "    drawBoard(board)\n",
    "\n",
    "\n",
    "#둔 위치가 한 줄을 형성하는지 여부\n",
    "def isWin(board, move):\n",
    "    return (board[1] == move and board[2] == move and board[3] == move) or (board[1] == move and board[4] == move and board[7] == move) or (board[1] == move and board[5] == move and board[9] == move) or (board[2] == move and board[5] == move and board[8] == move) or (board[3] == move and board[5] == move and board[7] == move) or (board[3] == move and board[6] == move and board[9] == move) or (board[7] == move and board[8] == move and board[9] == move)\n",
    "\n",
    "\n",
    "def main(board, playerLetter, computerLetter, first):\n",
    "    drawBoard(board)\n",
    "    #computer 1 / player 2\n",
    "    if first == 1:\n",
    "        print('The computer will go first')\n",
    "        getComputerMove(board, computerLetter)\n",
    "    else : print('The player will go first')\n",
    "\n",
    "    while board.count(' ') != 0:\n",
    "        getPlayerMove(board, playerLetter)\n",
    "        if isWin(board, playerLetter):\n",
    "            print('Player가 이겼습니다.'); break\n",
    "        getComputerMove(board, computerLetter)\n",
    "        if isWin(board, computerLetter):\n",
    "            print('Computer가 이겼습니다.'); break\n",
    "    \n",
    "    else: return('무승부 입니다.')\n",
    "\n",
    "\n",
    "while True:\n",
    "    if input('Do you want be X or O? ') == 'O': \n",
    "        player = 'O'; computer = 'X'\n",
    "    else : \n",
    "        player = 'X'; computer = 'O'\n",
    "\n",
    "    #computer 1 / player 2 \n",
    "    first = random.randint(1,2)\n",
    "\n",
    "    board = [' ' for x in range(10)]\n",
    "    main(board, player, computer, first)\n",
    "\n",
    "    if input('Do you want to play again(Y/N)? ') == 'N': break\n",
    "    else : print('\\n')\n"
   ]
  },
  {
   "cell_type": "code",
   "execution_count": null,
   "metadata": {},
   "outputs": [],
   "source": []
  }
 ],
 "metadata": {
  "kernelspec": {
   "display_name": "Python 3",
   "language": "python",
   "name": "python3"
  },
  "language_info": {
   "codemirror_mode": {
    "name": "ipython",
    "version": 3
   },
   "file_extension": ".py",
   "mimetype": "text/x-python",
   "name": "python",
   "nbconvert_exporter": "python",
   "pygments_lexer": "ipython3",
   "version": "3.7.5"
  }
 },
 "nbformat": 4,
 "nbformat_minor": 2
}
