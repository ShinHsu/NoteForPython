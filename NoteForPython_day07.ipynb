{
 "cells": [
  {
   "cell_type": "code",
   "execution_count": 1,
   "metadata": {},
   "outputs": [],
   "source": [
    "import tkinter.messagebox as tm\n",
    "import os\n",
    "import tkinter.simpledialog as ts\n",
    "from tkinter import *\n",
    "from tkinter.filedialog import *"
   ]
  },
  {
   "cell_type": "code",
   "execution_count": 18,
   "metadata": {},
   "outputs": [],
   "source": [
    "import tkinter.messagebox as tm\n",
    "import os\n",
    "import tkinter.simpledialog as ts\n",
    "from tkinter import *\n",
    "from tkinter.filedialog import *\n",
    "\n",
    "def cTof():\n",
    "    c = float(entry1.get())\n",
    "    f = 9/5*c + 32\n",
    "    entry2.delete(0, END)\n",
    "    entry2.insert(0, str(f))\n",
    "\n",
    "def fToc():\n",
    "    f = float(entry2.get())\n",
    "    c = 5/9*(f-32)\n",
    "    entry1.delete(0, END)\n",
    "    entry1.insert(0, str(c))\n",
    "\n",
    "window = Tk()\n",
    "window.title(\"온도 변환 프로그램\")\n",
    "window.geometry('250x150')\n",
    "\n",
    "label1 = Label(window, text=\"온도 변환 프로그램\")\n",
    "label2 = Label(window, text=\"섭씨\")\n",
    "label3 = Label(window, text=\"화씨\")\n",
    "label1.grid(row = 0, column = 0, columnspan = 2)\n",
    "label2.grid(row = 1, column = 0)\n",
    "label3.grid(row = 2, column = 0)\n",
    "\n",
    "entry1 = Entry(window)\n",
    "entry2 = Entry(window)\n",
    "\n",
    "entry1.grid(row = 1, column = 1)\n",
    "entry2.grid(row = 2, column = 1)\n",
    "\n",
    "btn1 = Button(window, text = \"섭씨 -> 화씨\", command = cTof)\n",
    "btn2 = Button(window, text = \"화씨 -> 섭씨\", command = fToc)\n",
    "\n",
    "btn1.grid(row = 3, column = 0)\n",
    "btn2.grid(row = 3, column = 1)\n",
    "\n",
    "window.mainloop()"
   ]
  }
 ],
 "metadata": {
  "kernelspec": {
   "display_name": "Python 3",
   "language": "python",
   "name": "python3"
  },
  "language_info": {
   "codemirror_mode": {
    "name": "ipython",
    "version": 3
   },
   "file_extension": ".py",
   "mimetype": "text/x-python",
   "name": "python",
   "nbconvert_exporter": "python",
   "pygments_lexer": "ipython3",
   "version": "3.7.5"
  }
 },
 "nbformat": 4,
 "nbformat_minor": 2
}
