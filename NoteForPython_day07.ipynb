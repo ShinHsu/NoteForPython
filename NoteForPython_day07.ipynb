{
 "cells": [
  {
   "cell_type": "code",
   "execution_count": 42,
   "metadata": {},
   "outputs": [],
   "source": [
    "import tkinter.messagebox as tm\n",
    "import os\n",
    "import tkinter.simpledialog as ts\n",
    "from tkinter import *\n",
    "from tkinter.filedialog import *\n",
    "\n",
    "def cTof():\n",
    "    c = float(entry1.get())\n",
    "    f = 9/5*c + 32\n",
    "    entry2.delete(0, END)\n",
    "    entry2.insert(0, str(f))\n",
    "\n",
    "def fToc():\n",
    "    f = float(entry2.get())\n",
    "    c = 5/9*(f-32)\n",
    "    entry1.delete(0, END)\n",
    "    entry1.insert(0, str(c))\n",
    "\n",
    "window = Tk()\n",
    "window.title(\"온도 변환 프로그램\")\n",
    "window.geometry('250x150')\n",
    "\n",
    "label1 = Label(window, text=\"온도 변환 프로그램\")\n",
    "label2 = Label(window, text=\"섭씨\")\n",
    "label3 = Label(window, text=\"화씨\")\n",
    "label1.grid(row = 0, column = 0, columnspan = 2)\n",
    "label2.grid(row = 1, column = 0)\n",
    "label3.grid(row = 2, column = 0)\n",
    "\n",
    "entry1 = Entry(window)\n",
    "entry2 = Entry(window)\n",
    "\n",
    "entry1.grid(row = 1, column = 1)\n",
    "entry2.grid(row = 2, column = 1)\n",
    "\n",
    "btn1 = Button(window, text = \"섭씨 -> 화씨\", command = cTof)\n",
    "btn2 = Button(window, text = \"화씨 -> 섭씨\", command = fToc)\n",
    "\n",
    "btn1.grid(row = 3, column = 0)\n",
    "btn2.grid(row = 3, column = 1)\n",
    "\n",
    "window.mainloop()"
   ]
  },
  {
   "cell_type": "code",
   "execution_count": null,
   "metadata": {},
   "outputs": [],
   "source": [
    "import tkinter.messagebox as tm\n",
    "import random\n",
    "import tkinter.simpledialog as ts\n",
    "from tkinter import *\n",
    "from tkinter.filedialog import *\n",
    "\n",
    "\n",
    "wordlist = '''and baboon badger bat bear beaver carnel cat clam cobra cougar coyote crow deer dog donkey\n",
    "duck eagle ferret fox frog goat goose hawk lion lizard lizama mole monkey moose mouse mule newt otter twl panda \n",
    "parrot pigeon python rabbit ram rat raven rhino salmon seal shark sheep skunk sloth\n",
    "snake spider stork swan tiger toad trout turkey turtle weasel whale wolf zebra'''.split()\n",
    "\n",
    "def randomWord():\n",
    "    global randx, randy, randIndex\n",
    "    randx = random.randint(50, 450)\n",
    "    randy = random.randint(50, 100)\n",
    "    randIndex = random.randint(0, len(wordlist) - 1)\n",
    "    canvas.create_text(randx, randy, font = \"Helvetica 16\",\\\n",
    "                   text=wordlist[randIndex], tags=wordlist[randIndex])\n",
    "\n",
    "def del_word(event):\n",
    "    global num\n",
    "    if entry.get().strip() == wordlist[randIndex]:\n",
    "        canvas.delete(wordlist[randIndex])\n",
    "        entry.delete(0, END)\n",
    "        num += 1\n",
    "        label.configure(text=\"맞힌개수 : %s\" % num)\n",
    "        randomWord()\n",
    "    else:\n",
    "        entry.delete(0, END)\n",
    "    \n",
    "def exit():\n",
    "    global torf\n",
    "    torf = False\n",
    "    window.destroy()\n",
    "\n",
    "global num, count\n",
    "window = Tk()\n",
    "window.title('영어단어타자연습')\n",
    "torf = True\n",
    "speed = 3\n",
    "num = 0\n",
    "count = 1\n",
    "\n",
    "canvas = Canvas(window, bg = \"white\", width = 500, height = 500)\n",
    "canvas.pack()\n",
    "entry = Entry(window, font = \"Helvetica 16\")\n",
    "entry.pack()\n",
    "button = Button(window, text = \"게임 종료하기\", font = \"Helvetica 16 bold\"\\\n",
    "               , command = exit)\n",
    "button.pack()\n",
    "label = Label(window, text=\"맞힌 개수 : 0\")\n",
    "label.pack()\n",
    "diff = ts.askstring(\"난이도\", \"난이도를 입력하세요 [h, m, l]\")\n",
    "if diff == 'h': speed = 20; count = 3\n",
    "elif diff == 'm': speed = 10; count = 2\n",
    "else : speed = 5\n",
    "    \n",
    "randomWord()\n",
    "\n",
    "canvas.bind_all(\"<KeyPress-Return>\", del_word)\n",
    "\n",
    "while torf:\n",
    "    canvas.move(wordlist[randIndex],0,speed)\n",
    "    canvas.after(100)\n",
    "    canvas.update()\n",
    "    randy = randy+speed\n",
    "    if randy > 500:\n",
    "        canvas.delete(wordlist[randIndex])\n",
    "        randomWord()\n",
    "        \n",
    "window.mainloop()"
   ]
  },
  {
   "cell_type": "code",
   "execution_count": 23,
   "metadata": {},
   "outputs": [
    {
     "name": "stdout",
     "output_type": "stream",
     "text": [
      "1\n",
      "2\n",
      "2\n",
      "2\n",
      "2\n",
      "2\n",
      "2\n",
      "2\n",
      "2\n",
      "2\n",
      "2\n"
     ]
    }
   ],
   "source": [
    "lst3 = [1,2,3,4,5,6,7,8,9,10,2]\n",
    "for i in range(len(lst3)):\n",
    "#     print(lst3[i:].index(min(lst3[i:])))\n",
    "    print(min(lst3[i:]))\n",
    "    "
   ]
  },
  {
   "cell_type": "code",
   "execution_count": 23,
   "metadata": {},
   "outputs": [
    {
     "data": {
      "text/plain": [
       "[1, 2, 3, 4, 5, 6]"
      ]
     },
     "execution_count": 23,
     "metadata": {},
     "output_type": "execute_result"
    }
   ],
   "source": [
    "my_list = [[1, 2], [3, 4], [5, 6]]\n",
    "\n",
    "[element for array in my_list for element in array]"
   ]
  },
  {
   "cell_type": "code",
   "execution_count": 31,
   "metadata": {},
   "outputs": [
    {
     "data": {
      "text/plain": [
       "Counter({1: 4, 2: 3, 3: 3, 4: 2, 5: 2, 6: 2, 7: 3, 8: 2, 9: 2, 0: 2})"
      ]
     },
     "execution_count": 31,
     "metadata": {},
     "output_type": "execute_result"
    }
   ],
   "source": [
    "import collections\n",
    "my_list = [1, 2, 3, 4, 5, 6, 7, 8, 7, 9, 1, 2, 3, 3, 5, 2, 6, 8, 9, 0, 1, 1, 4, 7, 0]\n",
    "answer = collections.Counter(my_list)\n",
    "\n",
    "answer"
   ]
  },
  {
   "cell_type": "code",
   "execution_count": 34,
   "metadata": {},
   "outputs": [
    {
     "data": {
      "text/plain": [
       "[4, 36]"
      ]
     },
     "execution_count": 34,
     "metadata": {},
     "output_type": "execute_result"
    }
   ],
   "source": [
    "mylist = [3, 2, 6, 7]\n",
    "\n",
    "answer = [i**2 for i in mylist if i%2==0]\n",
    "answer"
   ]
  },
  {
   "cell_type": "code",
   "execution_count": 39,
   "metadata": {},
   "outputs": [
    {
     "name": "stdout",
     "output_type": "stream",
     "text": [
      "[<filter object at 0x000002C2B55F1588>, <filter object at 0x000002C2B55F1288>, <filter object at 0x000002C2B55F19C8>]\n"
     ]
    }
   ],
   "source": [
    "c1 = [1, 6, 7, 10, 13, 28, 32, 41, 58, 63]\n",
    "c2 = [[13, 17, 18, 21, 32], [7, 11, 13, 14, 28], [1, 5, 6, 8, 15, 16]]\n",
    "c3 = [filter(lambda x: x in c1, sublist) for sublist in c2]\n",
    "print(c3)"
   ]
  }
 ],
 "metadata": {
  "kernelspec": {
   "display_name": "Python 3",
   "language": "python",
   "name": "python3"
  },
  "language_info": {
   "codemirror_mode": {
    "name": "ipython",
    "version": 3
   },
   "file_extension": ".py",
   "mimetype": "text/x-python",
   "name": "python",
   "nbconvert_exporter": "python",
   "pygments_lexer": "ipython3",
   "version": "3.7.5"
  }
 },
 "nbformat": 4,
 "nbformat_minor": 2
}
