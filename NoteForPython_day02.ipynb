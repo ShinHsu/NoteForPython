{
 "cells": [
  {
   "cell_type": "markdown",
   "metadata": {},
   "source": [
    "## 기초문법\n",
    "#### 주석 (한줄은 #, 여러 줄은 ''' 와 ''' 로 묶는다)\n",
    "- 코드 작성에서 부가적인 설명인 필요한 경우\n",
    "\n",
    "#### 제어문 (if, while)\n",
    "- if 조건문 :\n",
    "    조건이 True일 때 실행되는 문장\n",
    "  (조건문은 indent로 그룹화 한다. indent 는 탭한번/ 탭은 기본으로 스페이스4개)"
   ]
  },
  {
   "cell_type": "code",
   "execution_count": 2,
   "metadata": {},
   "outputs": [
    {
     "name": "stdout",
     "output_type": "stream",
     "text": [
      "Num: 5\n",
      "입력한 숫자는 양수\n",
      "입력한 숫자는 5\n",
      "끝\n"
     ]
    }
   ],
   "source": [
    "num = int(input(\"Num: \"))\n",
    "if num > 0:\n",
    "    print(\"입력한 숫자는 양수\")\n",
    "print(\"입력한 숫자는\", num)\n",
    "print(\"끝\")"
   ]
  },
  {
   "cell_type": "code",
   "execution_count": 3,
   "metadata": {},
   "outputs": [
    {
     "name": "stdout",
     "output_type": "stream",
     "text": [
      "Num: -2\n",
      "끝\n"
     ]
    }
   ],
   "source": [
    "num = int(input(\"Num: \"))\n",
    "if num > 0:\n",
    "    print(\"입력한 숫자는 양수\")\n",
    "    print(\"입력한 숫자는\", num)\n",
    "print(\"끝\")"
   ]
  },
  {
   "cell_type": "code",
   "execution_count": 4,
   "metadata": {},
   "outputs": [
    {
     "name": "stdout",
     "output_type": "stream",
     "text": [
      "Num: 2\n",
      "입력한 숫자는 양수\n",
      "입력한 숫자는 2\n",
      "끝\n"
     ]
    }
   ],
   "source": [
    "num = int(input(\"Num: \"))\n",
    "if num > 0:\n",
    "    print(\"입력한 숫자는 양수\")\n",
    "    print(\"입력한 숫자는\", num)\n",
    "print(\"끝\")"
   ]
  },
  {
   "cell_type": "code",
   "execution_count": 11,
   "metadata": {},
   "outputs": [
    {
     "name": "stdout",
     "output_type": "stream",
     "text": [
      "정수 : 4\n",
      "짝수\n"
     ]
    }
   ],
   "source": [
    "n = int(input('정수 : '))\n",
    "if n%2 == 1: print('홀수')\n",
    "if n%2 == 0: print('짝수')"
   ]
  },
  {
   "cell_type": "code",
   "execution_count": 15,
   "metadata": {},
   "outputs": [
    {
     "name": "stdout",
     "output_type": "stream",
     "text": [
      "몸무게 : 100\n",
      "키 : 1.6\n",
      "39.06249999999999\n",
      "비만입니다\n"
     ]
    }
   ],
   "source": [
    "weight = int(input('몸무게 : '))\n",
    "height = float(input('키 : '))\n",
    "BMI = weight / height**2\n",
    "print(BMI)\n",
    "if BMI > 25: print('비만입니다')"
   ]
  },
  {
   "cell_type": "code",
   "execution_count": 16,
   "metadata": {},
   "outputs": [
    {
     "name": "stdout",
     "output_type": "stream",
     "text": [
      "원하는 음식은(짜장면: 0, 짬뽕: 1)? 1\n",
      "맵게(0)? 안 맵게(1)? 1\n",
      "선택한 메뉴는 안 매운 짬뽕입니다.\n",
      "맛있게 드세요~\n"
     ]
    }
   ],
   "source": [
    "n = int(input('원하는 음식은(짜장면: 0, 짬뽕: 1)? '))\n",
    "if n == 0: print('선택한 메뉴는 짜장면입니다.')\n",
    "    \n",
    "if n == 1:\n",
    "    m = int(input('맵게(0)? 안 맵게(1)? '))\n",
    "    if m == 0: print('선택한 메뉴는 매운 짬뽕입니다.')\n",
    "    if m == 1: print('선택한 메뉴는 안 매운 짬뽕입니다.')\n",
    "        \n",
    "print('맛있게 드세요~')"
   ]
  },
  {
   "cell_type": "code",
   "execution_count": null,
   "metadata": {},
   "outputs": [],
   "source": []
  }
 ],
 "metadata": {
  "kernelspec": {
   "display_name": "Python 3",
   "language": "python",
   "name": "python3"
  },
  "language_info": {
   "codemirror_mode": {
    "name": "ipython",
    "version": 3
   },
   "file_extension": ".py",
   "mimetype": "text/x-python",
   "name": "python",
   "nbconvert_exporter": "python",
   "pygments_lexer": "ipython3",
   "version": "3.7.5"
  }
 },
 "nbformat": 4,
 "nbformat_minor": 2
}
