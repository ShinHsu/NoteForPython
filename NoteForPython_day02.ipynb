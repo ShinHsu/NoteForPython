{
 "cells": [
  {
   "cell_type": "markdown",
   "metadata": {},
   "source": [
    "## 기초문법\n",
    "#### 주석 (한줄은 #, 여러 줄은 ''' 와 ''' 로 묶는다)\n",
    "- 코드 작성에서 부가적인 설명인 필요한 경우\n",
    "\n",
    "#### 제어문 (if, while)\n",
    "- if 조건문 :\n",
    "    조건이 True일 때 실행되는 문장\n",
    "  (조건문은 indent로 그룹화 한다. indent 는 탭한번/ 탭은 기본으로 스페이스4개)"
   ]
  },
  {
   "cell_type": "code",
   "execution_count": 2,
   "metadata": {},
   "outputs": [
    {
     "name": "stdout",
     "output_type": "stream",
     "text": [
      "Num: 5\n",
      "입력한 숫자는 양수\n",
      "입력한 숫자는 5\n",
      "끝\n"
     ]
    }
   ],
   "source": [
    "num = int(input(\"Num: \"))\n",
    "if num > 0:\n",
    "    print(\"입력한 숫자는 양수\")\n",
    "print(\"입력한 숫자는\", num)\n",
    "print(\"끝\")"
   ]
  },
  {
   "cell_type": "code",
   "execution_count": 3,
   "metadata": {},
   "outputs": [
    {
     "name": "stdout",
     "output_type": "stream",
     "text": [
      "Num: -2\n",
      "끝\n"
     ]
    }
   ],
   "source": [
    "num = int(input(\"Num: \"))\n",
    "if num > 0:\n",
    "    print(\"입력한 숫자는 양수\")\n",
    "    print(\"입력한 숫자는\", num)\n",
    "print(\"끝\")"
   ]
  },
  {
   "cell_type": "code",
   "execution_count": 4,
   "metadata": {},
   "outputs": [
    {
     "name": "stdout",
     "output_type": "stream",
     "text": [
      "Num: 2\n",
      "입력한 숫자는 양수\n",
      "입력한 숫자는 2\n",
      "끝\n"
     ]
    }
   ],
   "source": [
    "num = int(input(\"Num: \"))\n",
    "if num > 0:\n",
    "    print(\"입력한 숫자는 양수\")\n",
    "    print(\"입력한 숫자는\", num)\n",
    "print(\"끝\")"
   ]
  },
  {
   "cell_type": "code",
   "execution_count": 11,
   "metadata": {},
   "outputs": [
    {
     "name": "stdout",
     "output_type": "stream",
     "text": [
      "정수 : 4\n",
      "짝수\n"
     ]
    }
   ],
   "source": [
    "n = int(input('정수 : '))\n",
    "if n%2 == 1: print('홀수')\n",
    "if n%2 == 0: print('짝수')"
   ]
  },
  {
   "cell_type": "code",
   "execution_count": 15,
   "metadata": {},
   "outputs": [
    {
     "name": "stdout",
     "output_type": "stream",
     "text": [
      "몸무게 : 100\n",
      "키 : 1.6\n",
      "39.06249999999999\n",
      "비만입니다\n"
     ]
    }
   ],
   "source": [
    "weight = int(input('몸무게 : '))\n",
    "height = float(input('키 : '))\n",
    "BMI = weight / height**2\n",
    "print(BMI)\n",
    "if BMI > 25: print('비만입니다')"
   ]
  },
  {
   "cell_type": "code",
   "execution_count": 16,
   "metadata": {},
   "outputs": [
    {
     "name": "stdout",
     "output_type": "stream",
     "text": [
      "원하는 음식은(짜장면: 0, 짬뽕: 1)? 1\n",
      "맵게(0)? 안 맵게(1)? 1\n",
      "선택한 메뉴는 안 매운 짬뽕입니다.\n",
      "맛있게 드세요~\n"
     ]
    }
   ],
   "source": [
    "n = int(input('원하는 음식은(짜장면: 0, 짬뽕: 1)? '))\n",
    "if n == 0: print('선택한 메뉴는 짜장면입니다.')\n",
    "    \n",
    "if n == 1:\n",
    "    m = int(input('맵게(0)? 안 맵게(1)? '))\n",
    "    if m == 0: print('선택한 메뉴는 매운 짬뽕입니다.')\n",
    "    if m == 1: print('선택한 메뉴는 안 매운 짬뽕입니다.')\n",
    "        \n",
    "print('맛있게 드세요~')"
   ]
  },
  {
   "cell_type": "code",
   "execution_count": 18,
   "metadata": {},
   "outputs": [
    {
     "name": "stdout",
     "output_type": "stream",
     "text": [
      "당신의 점수는? 80\n",
      "B 등급입니다.\n"
     ]
    }
   ],
   "source": [
    "score = int(input('당신의 점수는? '))\n",
    "if score >= 90: print('A 등급입니다.')\n",
    "if score < 90 and score >= 80: print('B 등급입니다.')\n",
    "if score < 80 and score >= 70: print('C 등급입니다.')\n",
    "if score < 70 and score >= 60: print('D 등급입니다.')\n",
    "if score < 60: print('F 등급입니다.')"
   ]
  },
  {
   "cell_type": "code",
   "execution_count": 49,
   "metadata": {},
   "outputs": [
    {
     "name": "stdout",
     "output_type": "stream",
     "text": [
      "동전을 넣으세요 : 2300\n",
      "콜라가 4 개 나왔습니다\n",
      "거스름돈 300 원이 나왔습니다.\n"
     ]
    }
   ],
   "source": [
    "money = int(input('동전을 넣으세요 : '))\n",
    "if money > 500 : print('콜라가 %d 개 나왔습니다' % (money//500))\n",
    "print('거스름돈 %d 원이 나왔습니다.' % (money % 500))"
   ]
  },
  {
   "cell_type": "code",
   "execution_count": 46,
   "metadata": {},
   "outputs": [
    {
     "name": "stdout",
     "output_type": "stream",
     "text": [
      "당신의 나이는 몇 살입니까? 13\n",
      "동승자가 있습니까? n\n",
      "탑승할 수 없습니다.\n",
      "감사합니다\n"
     ]
    }
   ],
   "source": [
    "age = int(input('당신의 나이는 몇 살입니까? '))\n",
    "if age < 18 :\n",
    "    if input('동승자가 있습니까? ') == 'n': print('탑승할 수 없습니다.')\n",
    "print('감사합니다')"
   ]
  },
  {
   "cell_type": "code",
   "execution_count": 51,
   "metadata": {},
   "outputs": [
    {
     "name": "stdout",
     "output_type": "stream",
     "text": [
      "점수를 입력하세요 : 70\n",
      "-> Pass!\n"
     ]
    }
   ],
   "source": [
    "if int(input('점수를 입력하세요 : ')) > 60 : print(\"-> Pass!\")\n",
    "else: print(\"-> Fail\")"
   ]
  },
  {
   "cell_type": "code",
   "execution_count": 55,
   "metadata": {},
   "outputs": [
    {
     "name": "stdout",
     "output_type": "stream",
     "text": [
      "몸무게(kg): 70\n",
      "키(m): 1.5\n",
      "31.11111111111111\n",
      "비만입니다.\n"
     ]
    }
   ],
   "source": [
    "w = float(input('몸무게(kg): '))\n",
    "h = float(input('키(m): '))\n",
    "BMI = w/h**2\n",
    "if BMI > 25: print(BMI); print('비만입니다.')\n",
    "else: print(' 채우기 정상입니다.')"
   ]
  },
  {
   "cell_type": "code",
   "execution_count": 58,
   "metadata": {},
   "outputs": [
    {
     "name": "stdout",
     "output_type": "stream",
     "text": [
      "첫 번째 정수를 입력하세요 : 3\n",
      "두 번째 정수를 입력하세요 : 3\n",
      "두 수는 같습니다.\n"
     ]
    }
   ],
   "source": [
    "num0 = int(input('첫 번째 정수를 입력하세요 : '))\n",
    "num1 = int(input('두 번째 정수를 입력하세요 : '))\n",
    "\n",
    "if num0 > num1 : print('큰 수:', num0, '작은 수:', num1)\n",
    "elif num0 < num1 : print('큰 수:', num1, '작은 수:', num0)\n",
    "else : print('두 수는 같습니다.')    \n"
   ]
  },
  {
   "cell_type": "code",
   "execution_count": 62,
   "metadata": {},
   "outputs": [
    {
     "name": "stdout",
     "output_type": "stream",
     "text": [
      "점수를 입력하세요: 60\n",
      "-> D\n",
      "엄마에게 혼납니다.\n"
     ]
    }
   ],
   "source": [
    "score = int(input(\"점수를 입력하세요: \"))\n",
    "if score >= 90: print(\"-> A\")\n",
    "elif score >= 80: print(\"-> B\")\n",
    "elif score >= 70: print(\"-> C\")\n",
    "elif score >= 60:\n",
    "    print(\"-> D\")\n",
    "    print(\"엄마에게 혼납니다.\")\n",
    "else:\n",
    "    print(\"-> F\")\n",
    "    print(\"엄마에게 매우 혼납니다.\")"
   ]
  },
  {
   "cell_type": "code",
   "execution_count": 69,
   "metadata": {},
   "outputs": [
    {
     "name": "stdout",
     "output_type": "stream",
     "text": [
      "오늘의 미세 먼지 농도는 ? 15\n",
      "오늘의 미세먼지는 좋음 입니다.\n"
     ]
    }
   ],
   "source": [
    "dust = int(input('오늘의 미세 먼지 농도는 ? '))\n",
    "if dust <= 30 : print('오늘의 미세먼지는 좋음 입니다.')\n",
    "elif dust <= 80 : print('오늘의 미세먼지는 보통 입니다.')\n",
    "elif dust <= 150: print('오늘의 미세먼지는 나쁨 입니다.')\n",
    "else : print('오늘의 미세먼지는 매우나쁨 입니다.')\n",
    "if dust >= 100 : print('미세먼지 경계 단계입니다 !!')"
   ]
  },
  {
   "cell_type": "code",
   "execution_count": 81,
   "metadata": {},
   "outputs": [
    {
     "name": "stdout",
     "output_type": "stream",
     "text": [
      "당신의 이름은? ㅁㄴㅇㅁㄴㅇ\n",
      "국어 점수는?68\n",
      "수학 점수는? 79\n",
      "영어 점수는? 68\n",
      "ㅁㄴㅇㅁㄴㅇ 는(은) 합격 입니다\n"
     ]
    }
   ],
   "source": [
    "name = input('당신의 이름은? ')\n",
    "korean = int(input('국어 점수는?'))\n",
    "math = int(input('수학 점수는? '))\n",
    "english = int(input('영어 점수는? '))\n",
    "\n",
    "if (korean + math + english) / 3 <= 60: print(name, '는(은) 불합격.. 입니다')\n",
    "elif korean <= 40 or math <= 40 or english <= 40 : print(name, '는(은) 과락.. 입니다')\n",
    "else : print(name, '는(은) 합격 입니다')"
   ]
  },
  {
   "cell_type": "markdown",
   "metadata": {},
   "source": [
    "#### while 기본 구조"
   ]
  },
  {
   "cell_type": "code",
   "execution_count": 84,
   "metadata": {},
   "outputs": [
    {
     "name": "stdout",
     "output_type": "stream",
     "text": [
      "숫자를 입력 : 3\n",
      "3\n",
      "2\n",
      "1\n",
      "end\n"
     ]
    }
   ],
   "source": [
    "num = int(input('숫자를 입력 : '))\n",
    "\n",
    "while num > 0 :\n",
    "    print(num)\n",
    "    num -= 1\n",
    "print('end')"
   ]
  },
  {
   "cell_type": "code",
   "execution_count": 85,
   "metadata": {},
   "outputs": [
    {
     "name": "stdout",
     "output_type": "stream",
     "text": [
      "나무를 1 번 찍었습니다 쾅\n",
      "나무를 2 번 찍었습니다 쾅, 쾅\n",
      "나무를 3 번 찍었습니다 쾅, 쾅, 쾅\n",
      "나무를 4 번 찍었습니다 쾅, 쾅, 쾅, 쾅\n",
      "나무를 5 번 찍었습니다 쾅, 쾅, 쾅, 쾅, 쾅\n",
      "나무를 6 번 찍었습니다 쾅, 쾅, 쾅, 쾅, 쾅, 쾅\n",
      "나무를 7 번 찍었습니다 쾅, 쾅, 쾅, 쾅, 쾅, 쾅, 쾅\n",
      "나무를 8 번 찍었습니다 쾅, 쾅, 쾅, 쾅, 쾅, 쾅, 쾅, 쾅\n",
      "나무를 9 번 찍었습니다 쾅, 쾅, 쾅, 쾅, 쾅, 쾅, 쾅, 쾅, 쾅\n",
      "나무가 넘어갔습니다\n"
     ]
    }
   ],
   "source": [
    " n = 1 # 초기값\n",
    "while n < 10: # 범위(끝)\n",
    "    print('나무를', n, '번 찍었습니다', '쾅, ' *(n-1) + '쾅')\n",
    "    n += 1 # 증감\n",
    "print('나무가 넘어갔습니다')"
   ]
  },
  {
   "cell_type": "code",
   "execution_count": 86,
   "metadata": {},
   "outputs": [
    {
     "name": "stdout",
     "output_type": "stream",
     "text": [
      "나무 크기: 5\n",
      "잎 모양: rk\n",
      "줄기 모양: sk\n",
      "    rk\n",
      "   rkrk\n",
      "  rkrkrk\n",
      " rkrkrkrk\n",
      "rkrkrkrkrk\n",
      "    sk\n",
      "    sk\n"
     ]
    }
   ],
   "source": [
    "size = int(input('나무 크기: '))\n",
    "leaf = input('잎 모양: ')\n",
    "stem = input('줄기 모양: ')\n",
    "\n",
    "n = 1\n",
    "while n <= size:\n",
    "    print(' ' * (size-n) + leaf * n)\n",
    "    n += 1\n",
    "    \n",
    "print(' ' * (size - 1) + stem)\n",
    "print(' ' * (size - 1) + stem)"
   ]
  },
  {
   "cell_type": "code",
   "execution_count": 2,
   "metadata": {},
   "outputs": [
    {
     "name": "stdout",
     "output_type": "stream",
     "text": [
      "input a number : 3\n",
      "3 * 1 = 3\n",
      "3 * 2 = 6\n",
      "3 * 3 = 9\n",
      "3 * 4 = 12\n",
      "3 * 5 = 15\n",
      "3 * 6 = 18\n",
      "3 * 7 = 21\n",
      "3 * 8 = 24\n",
      "3 * 9 = 27\n"
     ]
    }
   ],
   "source": [
    "num = int(input('input a number : '))\n",
    "i = 1\n",
    "while(i < 10):\n",
    "    print(num, '*', i, '=', num * i)\n",
    "    i += 1"
   ]
  },
  {
   "cell_type": "code",
   "execution_count": 13,
   "metadata": {},
   "outputs": [
    {
     "name": "stdout",
     "output_type": "stream",
     "text": [
      "2 단\n",
      "2 * 1 = 2\n",
      "2 * 2 = 4\n",
      "2 * 3 = 6\n",
      "2 * 4 = 8\n",
      "2 * 5 = 10\n",
      "2 * 6 = 12\n",
      "2 * 7 = 14\n",
      "2 * 8 = 16\n",
      "2 * 9 = 18\n",
      "3 단\n",
      "3 * 1 = 3\n",
      "3 * 2 = 6\n",
      "3 * 3 = 9\n",
      "3 * 4 = 12\n",
      "3 * 5 = 15\n",
      "3 * 6 = 18\n",
      "3 * 7 = 21\n",
      "3 * 8 = 24\n",
      "3 * 9 = 27\n",
      "4 단\n",
      "4 * 1 = 4\n",
      "4 * 2 = 8\n",
      "4 * 3 = 12\n",
      "4 * 4 = 16\n",
      "4 * 5 = 20\n",
      "4 * 6 = 24\n",
      "4 * 7 = 28\n",
      "4 * 8 = 32\n",
      "4 * 9 = 36\n",
      "5 단\n",
      "5 * 1 = 5\n",
      "5 * 2 = 10\n",
      "5 * 3 = 15\n",
      "5 * 4 = 20\n",
      "5 * 5 = 25\n",
      "5 * 6 = 30\n",
      "5 * 7 = 35\n",
      "5 * 8 = 40\n",
      "5 * 9 = 45\n",
      "6 단\n",
      "6 * 1 = 6\n",
      "6 * 2 = 12\n",
      "6 * 3 = 18\n",
      "6 * 4 = 24\n",
      "6 * 5 = 30\n",
      "6 * 6 = 36\n",
      "6 * 7 = 42\n",
      "6 * 8 = 48\n",
      "6 * 9 = 54\n",
      "7 단\n",
      "7 * 1 = 7\n",
      "7 * 2 = 14\n",
      "7 * 3 = 21\n",
      "7 * 4 = 28\n",
      "7 * 5 = 35\n",
      "7 * 6 = 42\n",
      "7 * 7 = 49\n",
      "7 * 8 = 56\n",
      "7 * 9 = 63\n",
      "8 단\n",
      "8 * 1 = 8\n",
      "8 * 2 = 16\n",
      "8 * 3 = 24\n",
      "8 * 4 = 32\n",
      "8 * 5 = 40\n",
      "8 * 6 = 48\n",
      "8 * 7 = 56\n",
      "8 * 8 = 64\n",
      "8 * 9 = 72\n",
      "9 단\n",
      "9 * 1 = 9\n",
      "9 * 2 = 18\n",
      "9 * 3 = 27\n",
      "9 * 4 = 36\n",
      "9 * 5 = 45\n",
      "9 * 6 = 54\n",
      "9 * 7 = 63\n",
      "9 * 8 = 72\n",
      "9 * 9 = 81\n"
     ]
    }
   ],
   "source": [
    "num = 2\n",
    "while(num < 10):\n",
    "    i = 1\n",
    "    print(num, '단')\n",
    "    while(i < 10):\n",
    "        print(num, '*', i, '=', num * i)\n",
    "        i += 1\n",
    "    num += 1"
   ]
  },
  {
   "cell_type": "code",
   "execution_count": 29,
   "metadata": {},
   "outputs": [
    {
     "name": "stdout",
     "output_type": "stream",
     "text": [
      "나무 크기: 5\n",
      "잎 모양: rk\n",
      "줄기 모양: sk\n",
      "    rk\n",
      "   rkrk\n",
      "  rkrkrk\n",
      " rkrkrkrk\n",
      "rkrkrkrkrk\n",
      "    sk\n",
      "    sk\n"
     ]
    }
   ],
   "source": [
    "size = int(input('나무 크기: '))\n",
    "leaf = input('잎 모양: ')\n",
    "stem = input('줄기 모양: ')\n",
    "\n",
    "n = 1\n",
    "while n <= size:\n",
    "    print(' ' * (size-n) + leaf * n)\n",
    "    n += 1\n",
    "\n",
    "stemNumber = int(size/2)\n",
    "while stemNumber :\n",
    "    print(' '* (size - 1) + stem)\n",
    "    stemNumber -= 1\n"
   ]
  },
  {
   "cell_type": "code",
   "execution_count": 39,
   "metadata": {},
   "outputs": [
    {
     "name": "stdout",
     "output_type": "stream",
     "text": [
      "동전을 넣으세요 : 5000\n",
      "현재 금액 : 5000\n",
      "음료 선택 (콜라: 0, 사이다: 1, 환타: 2)3\n",
      "환불\n",
      "거스름돈:  5000\n"
     ]
    }
   ],
   "source": [
    "money = int(input('동전을 넣으세요 : '))\n",
    "\n",
    "while(money >= 500):\n",
    "    print('현재 금액 :', money)\n",
    "    select = int(input('음료 선택 (콜라: 0, 사이다: 1, 환타: 2)'))\n",
    "    if select == 0 : print('콜라가 나왔습니다')\n",
    "    elif select == 1: print('사이다가 나왔습니다')\n",
    "    elif select == 2 : print('환타가 나왔습니다')\n",
    "    elif select == 3 : print('환불'); break\n",
    "    else : continue\n",
    "        \n",
    "    money -= 500\n",
    "\n",
    "print('거스름돈: ', money)"
   ]
  },
  {
   "cell_type": "code",
   "execution_count": 38,
   "metadata": {},
   "outputs": [
    {
     "name": "stdout",
     "output_type": "stream",
     "text": [
      "몇 각형으로 할까요 ? 4\n"
     ]
    }
   ],
   "source": [
    "import turtle as t\n",
    "\n",
    "t.reset()\n",
    "t.home()\n",
    "\n",
    "number = int(input('몇 각형으로 할까요 ? '))\n",
    "index = number\n",
    "\n",
    "while index:\n",
    "    t.forward(100)\n",
    "    t.left(360/number)\n",
    "    index -= 1"
   ]
  },
  {
   "cell_type": "code",
   "execution_count": 40,
   "metadata": {},
   "outputs": [
    {
     "name": "stdout",
     "output_type": "stream",
     "text": [
      "숫자 입력 : 7\n"
     ]
    }
   ],
   "source": [
    "import turtle as t\n",
    "\n",
    "t.reset()\n",
    "t.home()\n",
    "\n",
    "number = int(input('숫자 입력 : '))\n",
    "index = number\n",
    "\n",
    "if number == 5:\n",
    "    mul = 2\n",
    "else :\n",
    "    mul = 4\n",
    "    \n",
    "while index:\n",
    "    t.forward(100)\n",
    "    t.right(360 * mul / number)\n",
    "    index -= 1"
   ]
  }
 ],
 "metadata": {
  "kernelspec": {
   "display_name": "Python 3",
   "language": "python",
   "name": "python3"
  },
  "language_info": {
   "codemirror_mode": {
    "name": "ipython",
    "version": 3
   },
   "file_extension": ".py",
   "mimetype": "text/x-python",
   "name": "python",
   "nbconvert_exporter": "python",
   "pygments_lexer": "ipython3",
   "version": "3.7.5"
  }
 },
 "nbformat": 4,
 "nbformat_minor": 2
}
