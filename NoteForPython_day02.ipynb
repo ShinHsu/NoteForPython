{
 "cells": [
  {
   "cell_type": "markdown",
   "metadata": {},
   "source": [
    "## 기초문법\n",
    "#### 주석 (한줄은 #, 여러 줄은 ''' 와 ''' 로 묶는다)\n",
    "- 코드 작성에서 부가적인 설명인 필요한 경우\n",
    "\n",
    "#### 제어문 (if, while)\n",
    "- if 조건문 :\n",
    "    조건이 True일 때 실행되는 문장\n",
    "  (조건문은 indent로 그룹화 한다. indent 는 탭한번/ 탭은 기본으로 스페이스4개)"
   ]
  },
  {
   "cell_type": "code",
   "execution_count": 2,
   "metadata": {},
   "outputs": [
    {
     "name": "stdout",
     "output_type": "stream",
     "text": [
      "Num: 5\n",
      "입력한 숫자는 양수\n",
      "입력한 숫자는 5\n",
      "끝\n"
     ]
    }
   ],
   "source": [
    "num = int(input(\"Num: \"))\n",
    "if num > 0:\n",
    "    print(\"입력한 숫자는 양수\")\n",
    "print(\"입력한 숫자는\", num)\n",
    "print(\"끝\")"
   ]
  },
  {
   "cell_type": "code",
   "execution_count": 3,
   "metadata": {},
   "outputs": [
    {
     "name": "stdout",
     "output_type": "stream",
     "text": [
      "Num: -2\n",
      "끝\n"
     ]
    }
   ],
   "source": [
    "num = int(input(\"Num: \"))\n",
    "if num > 0:\n",
    "    print(\"입력한 숫자는 양수\")\n",
    "    print(\"입력한 숫자는\", num)\n",
    "print(\"끝\")"
   ]
  },
  {
   "cell_type": "code",
   "execution_count": 4,
   "metadata": {},
   "outputs": [
    {
     "name": "stdout",
     "output_type": "stream",
     "text": [
      "Num: 2\n",
      "입력한 숫자는 양수\n",
      "입력한 숫자는 2\n",
      "끝\n"
     ]
    }
   ],
   "source": [
    "num = int(input(\"Num: \"))\n",
    "if num > 0:\n",
    "    print(\"입력한 숫자는 양수\")\n",
    "    print(\"입력한 숫자는\", num)\n",
    "print(\"끝\")"
   ]
  },
  {
   "cell_type": "code",
   "execution_count": 11,
   "metadata": {},
   "outputs": [
    {
     "name": "stdout",
     "output_type": "stream",
     "text": [
      "정수 : 4\n",
      "짝수\n"
     ]
    }
   ],
   "source": [
    "n = int(input('정수 : '))\n",
    "if n%2 == 1: print('홀수')\n",
    "if n%2 == 0: print('짝수')"
   ]
  },
  {
   "cell_type": "code",
   "execution_count": 15,
   "metadata": {},
   "outputs": [
    {
     "name": "stdout",
     "output_type": "stream",
     "text": [
      "몸무게 : 100\n",
      "키 : 1.6\n",
      "39.06249999999999\n",
      "비만입니다\n"
     ]
    }
   ],
   "source": [
    "weight = int(input('몸무게 : '))\n",
    "height = float(input('키 : '))\n",
    "BMI = weight / height**2\n",
    "print(BMI)\n",
    "if BMI > 25: print('비만입니다')"
   ]
  },
  {
   "cell_type": "code",
   "execution_count": 16,
   "metadata": {},
   "outputs": [
    {
     "name": "stdout",
     "output_type": "stream",
     "text": [
      "원하는 음식은(짜장면: 0, 짬뽕: 1)? 1\n",
      "맵게(0)? 안 맵게(1)? 1\n",
      "선택한 메뉴는 안 매운 짬뽕입니다.\n",
      "맛있게 드세요~\n"
     ]
    }
   ],
   "source": [
    "n = int(input('원하는 음식은(짜장면: 0, 짬뽕: 1)? '))\n",
    "if n == 0: print('선택한 메뉴는 짜장면입니다.')\n",
    "    \n",
    "if n == 1:\n",
    "    m = int(input('맵게(0)? 안 맵게(1)? '))\n",
    "    if m == 0: print('선택한 메뉴는 매운 짬뽕입니다.')\n",
    "    if m == 1: print('선택한 메뉴는 안 매운 짬뽕입니다.')\n",
    "        \n",
    "print('맛있게 드세요~')"
   ]
  },
  {
   "cell_type": "code",
   "execution_count": 18,
   "metadata": {},
   "outputs": [
    {
     "name": "stdout",
     "output_type": "stream",
     "text": [
      "당신의 점수는? 80\n",
      "B 등급입니다.\n"
     ]
    }
   ],
   "source": [
    "score = int(input('당신의 점수는? '))\n",
    "if score >= 90: print('A 등급입니다.')\n",
    "if score < 90 and score >= 80: print('B 등급입니다.')\n",
    "if score < 80 and score >= 70: print('C 등급입니다.')\n",
    "if score < 70 and score >= 60: print('D 등급입니다.')\n",
    "if score < 60: print('F 등급입니다.')"
   ]
  },
  {
   "cell_type": "code",
   "execution_count": 49,
   "metadata": {},
   "outputs": [
    {
     "name": "stdout",
     "output_type": "stream",
     "text": [
      "동전을 넣으세요 : 2300\n",
      "콜라가 4 개 나왔습니다\n",
      "거스름돈 300 원이 나왔습니다.\n"
     ]
    }
   ],
   "source": [
    "money = int(input('동전을 넣으세요 : '))\n",
    "if money > 500 : print('콜라가 %d 개 나왔습니다' % (money//500))\n",
    "print('거스름돈 %d 원이 나왔습니다.' % (money % 500))"
   ]
  },
  {
   "cell_type": "code",
   "execution_count": 46,
   "metadata": {},
   "outputs": [
    {
     "name": "stdout",
     "output_type": "stream",
     "text": [
      "당신의 나이는 몇 살입니까? 13\n",
      "동승자가 있습니까? n\n",
      "탑승할 수 없습니다.\n",
      "감사합니다\n"
     ]
    }
   ],
   "source": [
    "age = int(input('당신의 나이는 몇 살입니까? '))\n",
    "if age < 18 :\n",
    "    if input('동승자가 있습니까? ') == 'n': print('탑승할 수 없습니다.')\n",
    "print('감사합니다')"
   ]
  },
  {
   "cell_type": "code",
   "execution_count": 51,
   "metadata": {},
   "outputs": [
    {
     "name": "stdout",
     "output_type": "stream",
     "text": [
      "점수를 입력하세요 : 70\n",
      "-> Pass!\n"
     ]
    }
   ],
   "source": [
    "if int(input('점수를 입력하세요 : ')) > 60 : print(\"-> Pass!\")\n",
    "else: print(\"-> Fail\")"
   ]
  },
  {
   "cell_type": "code",
   "execution_count": 55,
   "metadata": {},
   "outputs": [
    {
     "name": "stdout",
     "output_type": "stream",
     "text": [
      "몸무게(kg): 70\n",
      "키(m): 1.5\n",
      "31.11111111111111\n",
      "비만입니다.\n"
     ]
    }
   ],
   "source": [
    "w = float(input('몸무게(kg): '))\n",
    "h = float(input('키(m): '))\n",
    "BMI = w/h**2\n",
    "if BMI > 25: print(BMI); print('비만입니다.')\n",
    "else: print(' 채우기 정상입니다.')"
   ]
  },
  {
   "cell_type": "code",
   "execution_count": 58,
   "metadata": {},
   "outputs": [
    {
     "name": "stdout",
     "output_type": "stream",
     "text": [
      "첫 번째 정수를 입력하세요 : 3\n",
      "두 번째 정수를 입력하세요 : 3\n",
      "두 수는 같습니다.\n"
     ]
    }
   ],
   "source": [
    "num0 = int(input('첫 번째 정수를 입력하세요 : '))\n",
    "num1 = int(input('두 번째 정수를 입력하세요 : '))\n",
    "\n",
    "if num0 > num1 : print('큰 수:', num0, '작은 수:', num1)\n",
    "elif num0 < num1 : print('큰 수:', num1, '작은 수:', num0)\n",
    "else : print('두 수는 같습니다.')    \n"
   ]
  },
  {
   "cell_type": "code",
   "execution_count": 62,
   "metadata": {},
   "outputs": [
    {
     "name": "stdout",
     "output_type": "stream",
     "text": [
      "점수를 입력하세요: 60\n",
      "-> D\n",
      "엄마에게 혼납니다.\n"
     ]
    }
   ],
   "source": [
    "score = int(input(\"점수를 입력하세요: \"))\n",
    "if score >= 90: print(\"-> A\")\n",
    "elif score >= 80: print(\"-> B\")\n",
    "elif score >= 70: print(\"-> C\")\n",
    "elif score >= 60:\n",
    "    print(\"-> D\")\n",
    "    print(\"엄마에게 혼납니다.\")\n",
    "else:\n",
    "    print(\"-> F\")\n",
    "    print(\"엄마에게 매우 혼납니다.\")"
   ]
  },
  {
   "cell_type": "code",
   "execution_count": 69,
   "metadata": {},
   "outputs": [
    {
     "name": "stdout",
     "output_type": "stream",
     "text": [
      "오늘의 미세 먼지 농도는 ? 15\n",
      "오늘의 미세먼지는 좋음 입니다.\n"
     ]
    }
   ],
   "source": [
    "dust = int(input('오늘의 미세 먼지 농도는 ? '))\n",
    "if dust <= 30 : print('오늘의 미세먼지는 좋음 입니다.')\n",
    "elif dust <= 80 : print('오늘의 미세먼지는 보통 입니다.')\n",
    "elif dust <= 150: print('오늘의 미세먼지는 나쁨 입니다.')\n",
    "else : print('오늘의 미세먼지는 매우나쁨 입니다.')\n",
    "if dust >= 100 : print('미세먼지 경계 단계입니다 !!')"
   ]
  },
  {
   "cell_type": "code",
   "execution_count": 81,
   "metadata": {},
   "outputs": [
    {
     "name": "stdout",
     "output_type": "stream",
     "text": [
      "당신의 이름은? ㅁㄴㅇㅁㄴㅇ\n",
      "국어 점수는?68\n",
      "수학 점수는? 79\n",
      "영어 점수는? 68\n",
      "ㅁㄴㅇㅁㄴㅇ 는(은) 합격 입니다\n"
     ]
    }
   ],
   "source": [
    "name = input('당신의 이름은? ')\n",
    "korean = int(input('국어 점수는?'))\n",
    "math = int(input('수학 점수는? '))\n",
    "english = int(input('영어 점수는? '))\n",
    "\n",
    "if (korean + math + english) / 3 <= 60: print(name, '는(은) 불합격.. 입니다')\n",
    "elif korean <= 40 or math <= 40 or english <= 40 : print(name, '는(은) 과락.. 입니다')\n",
    "else : print(name, '는(은) 합격 입니다')"
   ]
  },
  {
   "cell_type": "code",
   "execution_count": null,
   "metadata": {},
   "outputs": [],
   "source": []
  }
 ],
 "metadata": {
  "kernelspec": {
   "display_name": "Python 3",
   "language": "python",
   "name": "python3"
  },
  "language_info": {
   "codemirror_mode": {
    "name": "ipython",
    "version": 3
   },
   "file_extension": ".py",
   "mimetype": "text/x-python",
   "name": "python",
   "nbconvert_exporter": "python",
   "pygments_lexer": "ipython3",
   "version": "3.7.5"
  }
 },
 "nbformat": 4,
 "nbformat_minor": 2
}
