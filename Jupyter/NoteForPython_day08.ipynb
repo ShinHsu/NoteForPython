{
 "cells": [
  {
   "cell_type": "markdown",
   "metadata": {},
   "source": [
    "#### 순차탐색"
   ]
  },
  {
   "cell_type": "code",
   "execution_count": 26,
   "metadata": {},
   "outputs": [
    {
     "name": "stdout",
     "output_type": "stream",
     "text": [
      "number : 22\n"
     ]
    },
    {
     "data": {
      "text/plain": [
       "-2"
      ]
     },
     "execution_count": 26,
     "metadata": {},
     "output_type": "execute_result"
    }
   ],
   "source": [
    "def func(lst, findNumber):\n",
    "    for i in range(len(lst)):\n",
    "        if findNumber == lst[i] : \n",
    "            return i; break\n",
    "    else : return -2\n",
    "    \n",
    "lst = [17, 92, 18, 33, 58, 5, 33, 42]\n",
    "findNumber = int(input('number : '))\n",
    "func(lst, findNumber)"
   ]
  },
  {
   "cell_type": "code",
   "execution_count": 34,
   "metadata": {},
   "outputs": [
    {
     "name": "stdout",
     "output_type": "stream",
     "text": [
      "number : 58\n"
     ]
    },
    {
     "data": {
      "text/plain": [
       "4"
      ]
     },
     "execution_count": 34,
     "metadata": {},
     "output_type": "execute_result"
    }
   ],
   "source": [
    "lst = [17, 92, 18, 33, 58, 5, 33, 42]\n",
    "findNumber = int(input('number : '))\n",
    "result = [i for i in lst if findNumber == i]\n",
    "lst.index(result[0])"
   ]
  },
  {
   "cell_type": "code",
   "execution_count": null,
   "metadata": {},
   "outputs": [],
   "source": []
  },
  {
   "cell_type": "code",
   "execution_count": null,
   "metadata": {},
   "outputs": [],
   "source": []
  },
  {
   "cell_type": "markdown",
   "metadata": {},
   "source": [
    "##### 순차탐색 -1"
   ]
  },
  {
   "cell_type": "code",
   "execution_count": 36,
   "metadata": {},
   "outputs": [
    {
     "name": "stdout",
     "output_type": "stream",
     "text": [
      "number : 33\n"
     ]
    },
    {
     "data": {
      "text/plain": [
       "[3, 6]"
      ]
     },
     "execution_count": 36,
     "metadata": {},
     "output_type": "execute_result"
    }
   ],
   "source": [
    "def func(lst, findNumber):\n",
    "    answer = []\n",
    "    for i in range(len(lst)):\n",
    "        if findNumber == lst[i] : answer.append(i)\n",
    "    \n",
    "    return answer\n",
    "    \n",
    "lst = [17, 92, 18, 33, 58, 5, 33, 42]\n",
    "findNumber = int(input('number : '))\n",
    "func(lst, findNumber)"
   ]
  },
  {
   "cell_type": "markdown",
   "metadata": {},
   "source": [
    "##### 순차탐색 -2"
   ]
  },
  {
   "cell_type": "code",
   "execution_count": 40,
   "metadata": {},
   "outputs": [
    {
     "name": "stdout",
     "output_type": "stream",
     "text": [
      "number : 23\n"
     ]
    },
    {
     "data": {
      "text/plain": [
       "'?'"
      ]
     },
     "execution_count": 40,
     "metadata": {},
     "output_type": "execute_result"
    }
   ],
   "source": [
    "def func(lst, num):\n",
    "    if num in lst : return lst[num]\n",
    "    else : return '?'\n",
    "\n",
    "studentList = {39 : 'Justin', 14 : 'John', 67 : 'Mike', 105 : 'Summer'}\n",
    "findNumber = int(input('number : '))\n",
    "func(studentList, findNumber)"
   ]
  },
  {
   "cell_type": "markdown",
   "metadata": {},
   "source": [
    "##### 선택정렬"
   ]
  },
  {
   "cell_type": "code",
   "execution_count": 83,
   "metadata": {},
   "outputs": [
    {
     "data": {
      "text/plain": [
       "[1, 2, 3, 5, 7]"
      ]
     },
     "execution_count": 83,
     "metadata": {},
     "output_type": "execute_result"
    }
   ],
   "source": [
    "def sel_sort(lst):\n",
    "    result = []\n",
    "    for _ in range(len(lst)):\n",
    "        result.append(min(lst))\n",
    "        del lst[lst.index(min(lst))]\n",
    "    return result\n",
    "\n",
    "lst = [3, 5, 1, 7, 2]\n",
    "sel_sort(lst)"
   ]
  },
  {
   "cell_type": "code",
   "execution_count": 87,
   "metadata": {},
   "outputs": [
    {
     "name": "stdout",
     "output_type": "stream",
     "text": [
      "Wall time: 0 ns\n"
     ]
    },
    {
     "data": {
      "text/plain": [
       "[1, 2, 3, 5, 7]"
      ]
     },
     "execution_count": 87,
     "metadata": {},
     "output_type": "execute_result"
    }
   ],
   "source": [
    "%time\n",
    "def sel_sort(lst):\n",
    "    lst.sort()\n",
    "    return lst\n",
    "\n",
    "lst = [3, 5, 1, 7, 2]\n",
    "sel_sort(lst)"
   ]
  },
  {
   "cell_type": "code",
   "execution_count": 160,
   "metadata": {},
   "outputs": [
    {
     "name": "stdout",
     "output_type": "stream",
     "text": [
      "[7, 2, 6, 9, 10, 3]\n"
     ]
    },
    {
     "data": {
      "text/plain": [
       "[2, 3, 6, 7, 9, 10]"
      ]
     },
     "execution_count": 160,
     "metadata": {},
     "output_type": "execute_result"
    }
   ],
   "source": [
    "def sel_sort(lst):\n",
    "    for i in range(len(lst)):\n",
    "        lst[lst.index(min(lst[i:]))], lst[i] = lst[i], lst[lst.index(min(lst[i:]))]\n",
    "    \n",
    "    return lst\n",
    "    \n",
    "lst = [7, 2, 6, 9, 10, 3]\n",
    "print(lst)\n",
    "sel_sort(lst)"
   ]
  },
  {
   "cell_type": "code",
   "execution_count": 145,
   "metadata": {},
   "outputs": [
    {
     "ename": "IndentationError",
     "evalue": "expected an indented block (<ipython-input-145-ed246e402ac9>, line 4)",
     "output_type": "error",
     "traceback": [
      "\u001b[1;36m  File \u001b[1;32m\"<ipython-input-145-ed246e402ac9>\"\u001b[1;36m, line \u001b[1;32m4\u001b[0m\n\u001b[1;33m    lst = [7, 2, 6, 9, 10, 3]\u001b[0m\n\u001b[1;37m      ^\u001b[0m\n\u001b[1;31mIndentationError\u001b[0m\u001b[1;31m:\u001b[0m expected an indented block\n"
     ]
    }
   ],
   "source": [
    "def ins_sort(lst):\n",
    "    \n",
    "\n",
    "lst = [7, 2, 6, 9, 10, 3]\n",
    "ins=_sort(lst)"
   ]
  },
  {
   "cell_type": "code",
   "execution_count": 159,
   "metadata": {},
   "outputs": [
    {
     "ename": "SyntaxError",
     "evalue": "can't assign to function call (<ipython-input-159-415455808033>, line 7)",
     "output_type": "error",
     "traceback": [
      "\u001b[1;36m  File \u001b[1;32m\"<ipython-input-159-415455808033>\"\u001b[1;36m, line \u001b[1;32m7\u001b[0m\n\u001b[1;33m    lst6.index(min(lst6[i+1])), lst6[i]  = lst6[i], lst6.index(min(a[i+1:]))\u001b[0m\n\u001b[1;37m    ^\u001b[0m\n\u001b[1;31mSyntaxError\u001b[0m\u001b[1;31m:\u001b[0m can't assign to function call\n"
     ]
    }
   ],
   "source": [
    "def slsl(lst6):\n",
    "    for i in range(len(lst6)):\n",
    "        if lst6[i] > min(lst6[i+1:]):\n",
    "            lst6.index(min(lst6[i+1])), lst6[i]  = lst6[i], lst6.index(min(a[i+1:]))\n",
    "    return a\n",
    "\n",
    "d = [2,4,5,1,2]\n",
    "slsl(d)"
   ]
  },
  {
   "cell_type": "code",
   "execution_count": 78,
   "metadata": {},
   "outputs": [
    {
     "name": "stdout",
     "output_type": "stream",
     "text": [
      "13 45 3\n",
      "33\n"
     ]
    }
   ],
   "source": [
    "#!/bin/python3\n",
    "\n",
    "import math\n",
    "import os\n",
    "import random\n",
    "import re\n",
    "import sys\n",
    "\n",
    "# Complete the beautifulDays function below.\n",
    "def beautifulDays(i, j, k):\n",
    "    lst = [i]\n",
    "    index = 0\n",
    "    \n",
    "    while 1:\n",
    "        i += 1\n",
    "        lst.append(i)\n",
    "        if i == j: break\n",
    "    \n",
    "    rLst = list(map(str, lst))\n",
    "    for i in range(len(rLst)):\n",
    "        rLst[i] = rLst[i][::-1]\n",
    "        if abs(lst[i] - int(rLst[i])) % k == 0 : index += 1\n",
    "    \n",
    "    return index\n",
    "            \n",
    "if __name__ == '__main__':\n",
    "    ijk = input().split()\n",
    "    i = int(ijk[0])\n",
    "    j = int(ijk[1])\n",
    "    k = int(ijk[2])\n",
    "\n",
    "    result = beautifulDays(i, j, k)\n",
    "    print(result)\n"
   ]
  },
  {
   "cell_type": "code",
   "execution_count": null,
   "metadata": {},
   "outputs": [],
   "source": []
  }
 ],
 "metadata": {
  "kernelspec": {
   "display_name": "Python 3",
   "language": "python",
   "name": "python3"
  },
  "language_info": {
   "codemirror_mode": {
    "name": "ipython",
    "version": 3
   },
   "file_extension": ".py",
   "mimetype": "text/x-python",
   "name": "python",
   "nbconvert_exporter": "python",
   "pygments_lexer": "ipython3",
   "version": "3.7.5"
  }
 },
 "nbformat": 4,
 "nbformat_minor": 2
}
