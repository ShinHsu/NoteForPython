{
 "cells": [
  {
   "cell_type": "markdown",
   "metadata": {},
   "source": [
    "##### 이진 탐색"
   ]
  },
  {
   "cell_type": "code",
   "execution_count": 1,
   "metadata": {},
   "outputs": [
    {
     "name": "stdout",
     "output_type": "stream",
     "text": [
      "number : 7\n"
     ]
    },
    {
     "ename": "KeyboardInterrupt",
     "evalue": "",
     "output_type": "error",
     "traceback": [
      "\u001b[1;31m---------------------------------------------------------------------------\u001b[0m",
      "\u001b[1;31mKeyboardInterrupt\u001b[0m                         Traceback (most recent call last)",
      "\u001b[1;32m<ipython-input-1-bb18b5113e09>\u001b[0m in \u001b[0;36m<module>\u001b[1;34m\u001b[0m\n\u001b[0;32m     15\u001b[0m \u001b[0mlst\u001b[0m \u001b[1;33m=\u001b[0m \u001b[1;33m[\u001b[0m\u001b[1;36m5\u001b[0m\u001b[1;33m,\u001b[0m\u001b[1;36m2\u001b[0m\u001b[1;33m,\u001b[0m\u001b[1;36m1\u001b[0m\u001b[1;33m,\u001b[0m\u001b[1;36m6\u001b[0m\u001b[1;33m,\u001b[0m\u001b[1;36m7\u001b[0m\u001b[1;33m,\u001b[0m\u001b[1;36m3\u001b[0m\u001b[1;33m,\u001b[0m\u001b[1;36m4\u001b[0m\u001b[1;33m,\u001b[0m\u001b[1;36m9\u001b[0m\u001b[1;33m,\u001b[0m\u001b[1;36m10\u001b[0m\u001b[1;33m,\u001b[0m\u001b[1;36m13\u001b[0m\u001b[1;33m]\u001b[0m\u001b[1;33m\u001b[0m\u001b[1;33m\u001b[0m\u001b[0m\n\u001b[0;32m     16\u001b[0m \u001b[0mfind\u001b[0m \u001b[1;33m=\u001b[0m \u001b[0mint\u001b[0m\u001b[1;33m(\u001b[0m\u001b[0minput\u001b[0m\u001b[1;33m(\u001b[0m\u001b[1;34m'number : '\u001b[0m\u001b[1;33m)\u001b[0m\u001b[1;33m)\u001b[0m\u001b[1;33m\u001b[0m\u001b[1;33m\u001b[0m\u001b[0m\n\u001b[1;32m---> 17\u001b[1;33m \u001b[0mresult\u001b[0m \u001b[1;33m=\u001b[0m \u001b[0mbin_ser\u001b[0m\u001b[1;33m(\u001b[0m\u001b[0mlst\u001b[0m\u001b[1;33m,\u001b[0m \u001b[0mfind\u001b[0m\u001b[1;33m)\u001b[0m\u001b[1;33m\u001b[0m\u001b[1;33m\u001b[0m\u001b[0m\n\u001b[0m\u001b[0;32m     18\u001b[0m \u001b[0mprint\u001b[0m\u001b[1;33m(\u001b[0m\u001b[0mresult\u001b[0m\u001b[1;33m)\u001b[0m\u001b[1;33m\u001b[0m\u001b[1;33m\u001b[0m\u001b[0m\n",
      "\u001b[1;32m<ipython-input-1-bb18b5113e09>\u001b[0m in \u001b[0;36mbin_ser\u001b[1;34m(lst, find)\u001b[0m\n\u001b[0;32m      3\u001b[0m     \u001b[0mstart\u001b[0m\u001b[1;33m,\u001b[0m \u001b[0mend\u001b[0m \u001b[1;33m=\u001b[0m \u001b[1;36m0\u001b[0m\u001b[1;33m,\u001b[0m \u001b[0mlen\u001b[0m\u001b[1;33m(\u001b[0m\u001b[0mlst\u001b[0m\u001b[1;33m)\u001b[0m \u001b[1;33m-\u001b[0m \u001b[1;36m1\u001b[0m\u001b[1;33m\u001b[0m\u001b[1;33m\u001b[0m\u001b[0m\n\u001b[0;32m      4\u001b[0m     \u001b[1;32mwhile\u001b[0m \u001b[0mstart\u001b[0m \u001b[1;33m<=\u001b[0m \u001b[0mend\u001b[0m\u001b[1;33m:\u001b[0m\u001b[1;33m\u001b[0m\u001b[1;33m\u001b[0m\u001b[0m\n\u001b[1;32m----> 5\u001b[1;33m         \u001b[0mbase\u001b[0m \u001b[1;33m=\u001b[0m \u001b[1;33m(\u001b[0m\u001b[0mstart\u001b[0m \u001b[1;33m+\u001b[0m \u001b[0mend\u001b[0m\u001b[1;33m)\u001b[0m \u001b[1;33m//\u001b[0m \u001b[1;36m2\u001b[0m\u001b[1;33m\u001b[0m\u001b[1;33m\u001b[0m\u001b[0m\n\u001b[0m\u001b[0;32m      6\u001b[0m         \u001b[1;32mif\u001b[0m \u001b[0mfind\u001b[0m \u001b[1;33m==\u001b[0m \u001b[0mlst\u001b[0m\u001b[1;33m[\u001b[0m\u001b[0mbase\u001b[0m\u001b[1;33m]\u001b[0m\u001b[1;33m:\u001b[0m\u001b[1;33m\u001b[0m\u001b[1;33m\u001b[0m\u001b[0m\n\u001b[0;32m      7\u001b[0m             \u001b[1;32mreturn\u001b[0m \u001b[0mfind\u001b[0m\u001b[1;33m\u001b[0m\u001b[1;33m\u001b[0m\u001b[0m\n",
      "\u001b[1;31mKeyboardInterrupt\u001b[0m: "
     ]
    }
   ],
   "source": [
    "def bin_ser(lst, find):\n",
    "    lst.sort()\n",
    "    start, end = 0, len(lst) - 1\n",
    "    while start <= end:\n",
    "        base = (start + end) // 2\n",
    "        if find == lst[base]:\n",
    "            return find\n",
    "        elif find > lst[base]:\n",
    "            start = find\n",
    "        else:\n",
    "            end = find\n",
    "    \n",
    "    return -1\n",
    "\n",
    "lst = [5,2,1,6,7,3,4,9,10,13]\n",
    "find = int(input('number : '))\n",
    "result = bin_ser(lst, find)\n",
    "print(result)"
   ]
  },
  {
   "cell_type": "code",
   "execution_count": 73,
   "metadata": {},
   "outputs": [],
   "source": [
    "from tkinter import *\n",
    "from tkinter import colorchooser\n",
    "import tkinter.simpledialog as ts\n",
    "import tkinter.messagebox as tm\n",
    "\n",
    "def quit():\n",
    "    window.destroy()\n",
    "\n",
    "\n",
    "def find():\n",
    "    msg = tm.askyesno(\"정답을 맞췄습니다.\", \"한번 더 하시겠습니까?\")\n",
    "    if msg:\n",
    "        newGame()\n",
    "    else:\n",
    "        quit()\n",
    "\n",
    "def guess(high_or_low):\n",
    "    global start, end, mid, count\n",
    "    count += 1\n",
    "    label2.config(text = '횟수 : %s' % count)\n",
    "    if high_or_low == 'higher':\n",
    "        start = mid\n",
    "    else:\n",
    "        end = mid\n",
    "    bin_search()\n",
    "    \n",
    "def bin_search():\n",
    "    global mid, start, end, count\n",
    "    mid = (start + end) // 2\n",
    "    label2.config(text = '횟수 : %s' % count)\n",
    "    label.config(text = '정답은 %s 입니다' % mid)        \n",
    "        \n",
    "def newGame():\n",
    "    global start, end, count\n",
    "    count = 1\n",
    "    user_range = ts.askstring(\"범위 입력\",\\\n",
    "                              \"원하는 범위 입력(예 : 1,100)\").split(',')\n",
    "    start = int(user_range[0])\n",
    "    end = int(user_range[1])\n",
    "    label2.config(text = '횟수 : %s' % count)\n",
    "    bin_search()\n",
    "\n",
    "    \n",
    "count, mid, start, end = 0, 0, 0, 0\n",
    "\n",
    "window = Tk()\n",
    "window.title(\"숫자 맞추기\")\n",
    "window.geometry('300x100')\n",
    "\n",
    "label = Label(window, text = \"숫자를 맞추겠습니다.\",\\\n",
    "              font = \"Helvetica 12 bold\")\n",
    "label2 = Label(window, text = \"횟수 : %s \" % count,\\\n",
    "               font = \"Helvetica 10 bold\")\n",
    "btn1 = Button(window, text = \"크다\",\\\n",
    "              command = lambda z = 'higher' : guess(z))\n",
    "btn2 = Button(window, text = \"작다\",\\\n",
    "              command = lambda z = 'lower' : guess(z))\n",
    "btn3 = Button(window, text = '정답', command = find)\n",
    "btn4 = Button(window, text = '새게임', command = newGame)\n",
    "btn5 = Button(window, text = '종료', command = quit)\n",
    "\n",
    "label.grid(row = 0, column = 0, columnspan = 5)\n",
    "label2.grid(row = 1, column = 0, columnspan = 5)\n",
    "btn1.grid(row = 2, column = 0, padx = 10)\n",
    "btn2.grid(row = 2, column = 1, padx = 10)\n",
    "btn3.grid(row = 2, column = 2, padx = 10)\n",
    "btn4.grid(row = 2, column = 3, padx = 10)\n",
    "btn5.grid(row = 2, column = 4, padx = 10)\n",
    "\n",
    "newGame()\n",
    "# entry.bind_all(\"<KeyPress-Return>\", confirm)\n",
    "window.mainloop()"
   ]
  },
  {
   "cell_type": "code",
   "execution_count": 176,
   "metadata": {},
   "outputs": [
    {
     "ename": "TclError",
     "evalue": "invalid command name \".!canvas\"",
     "output_type": "error",
     "traceback": [
      "\u001b[1;31m---------------------------------------------------------------------------\u001b[0m",
      "\u001b[1;31mTclError\u001b[0m                                  Traceback (most recent call last)",
      "\u001b[1;32m<ipython-input-176-388cdfa7eca3>\u001b[0m in \u001b[0;36m<module>\u001b[1;34m\u001b[0m\n\u001b[0;32m     74\u001b[0m         \u001b[0mowlState\u001b[0m \u001b[1;33m=\u001b[0m \u001b[1;36m0\u001b[0m\u001b[1;33m\u001b[0m\u001b[1;33m\u001b[0m\u001b[0m\n\u001b[0;32m     75\u001b[0m     \u001b[1;32melse\u001b[0m\u001b[1;33m:\u001b[0m\u001b[1;33m\u001b[0m\u001b[1;33m\u001b[0m\u001b[0m\n\u001b[1;32m---> 76\u001b[1;33m         \u001b[0mcanvas\u001b[0m\u001b[1;33m.\u001b[0m\u001b[0mitemconfig\u001b[0m\u001b[1;33m(\u001b[0m\u001b[0mcanvasCreate\u001b[0m\u001b[1;33m,\u001b[0m \u001b[0mtext\u001b[0m \u001b[1;33m=\u001b[0m \u001b[0mowl\u001b[0m\u001b[1;33m)\u001b[0m\u001b[1;33m\u001b[0m\u001b[1;33m\u001b[0m\u001b[0m\n\u001b[0m\u001b[0;32m     77\u001b[0m         \u001b[0mowlState\u001b[0m \u001b[1;33m=\u001b[0m \u001b[1;36m1\u001b[0m\u001b[1;33m\u001b[0m\u001b[1;33m\u001b[0m\u001b[0m\n\u001b[0;32m     78\u001b[0m     \u001b[0mtextPosition\u001b[0m \u001b[1;33m+=\u001b[0m \u001b[0mspeed\u001b[0m\u001b[1;33m\u001b[0m\u001b[1;33m\u001b[0m\u001b[0m\n",
      "\u001b[1;32mc:\\users\\admin\\appdata\\local\\programs\\python\\python37\\lib\\tkinter\\__init__.py\u001b[0m in \u001b[0;36mitemconfigure\u001b[1;34m(self, tagOrId, cnf, **kw)\u001b[0m\n\u001b[0;32m   2576\u001b[0m         \u001b[0mthe\u001b[0m \u001b[0mallowed\u001b[0m \u001b[0mkeyword\u001b[0m \u001b[0marguments\u001b[0m \u001b[0mcall\u001b[0m \u001b[0mthe\u001b[0m \u001b[0mmethod\u001b[0m \u001b[0mwithout\u001b[0m \u001b[0marguments\u001b[0m\u001b[1;33m.\u001b[0m\u001b[1;33m\u001b[0m\u001b[1;33m\u001b[0m\u001b[0m\n\u001b[0;32m   2577\u001b[0m         \"\"\"\n\u001b[1;32m-> 2578\u001b[1;33m         \u001b[1;32mreturn\u001b[0m \u001b[0mself\u001b[0m\u001b[1;33m.\u001b[0m\u001b[0m_configure\u001b[0m\u001b[1;33m(\u001b[0m\u001b[1;33m(\u001b[0m\u001b[1;34m'itemconfigure'\u001b[0m\u001b[1;33m,\u001b[0m \u001b[0mtagOrId\u001b[0m\u001b[1;33m)\u001b[0m\u001b[1;33m,\u001b[0m \u001b[0mcnf\u001b[0m\u001b[1;33m,\u001b[0m \u001b[0mkw\u001b[0m\u001b[1;33m)\u001b[0m\u001b[1;33m\u001b[0m\u001b[1;33m\u001b[0m\u001b[0m\n\u001b[0m\u001b[0;32m   2579\u001b[0m     \u001b[0mitemconfig\u001b[0m \u001b[1;33m=\u001b[0m \u001b[0mitemconfigure\u001b[0m\u001b[1;33m\u001b[0m\u001b[1;33m\u001b[0m\u001b[0m\n\u001b[0;32m   2580\u001b[0m     \u001b[1;31m# lower, tkraise/lift hide Misc.lower, Misc.tkraise/lift,\u001b[0m\u001b[1;33m\u001b[0m\u001b[1;33m\u001b[0m\u001b[1;33m\u001b[0m\u001b[0m\n",
      "\u001b[1;32mc:\\users\\admin\\appdata\\local\\programs\\python\\python37\\lib\\tkinter\\__init__.py\u001b[0m in \u001b[0;36m_configure\u001b[1;34m(self, cmd, cnf, kw)\u001b[0m\n\u001b[0;32m   1474\u001b[0m         \u001b[1;32mif\u001b[0m \u001b[0misinstance\u001b[0m\u001b[1;33m(\u001b[0m\u001b[0mcnf\u001b[0m\u001b[1;33m,\u001b[0m \u001b[0mstr\u001b[0m\u001b[1;33m)\u001b[0m\u001b[1;33m:\u001b[0m\u001b[1;33m\u001b[0m\u001b[1;33m\u001b[0m\u001b[0m\n\u001b[0;32m   1475\u001b[0m             \u001b[1;32mreturn\u001b[0m \u001b[0mself\u001b[0m\u001b[1;33m.\u001b[0m\u001b[0m_getconfigure1\u001b[0m\u001b[1;33m(\u001b[0m\u001b[0m_flatten\u001b[0m\u001b[1;33m(\u001b[0m\u001b[1;33m(\u001b[0m\u001b[0mself\u001b[0m\u001b[1;33m.\u001b[0m\u001b[0m_w\u001b[0m\u001b[1;33m,\u001b[0m \u001b[0mcmd\u001b[0m\u001b[1;33m,\u001b[0m \u001b[1;34m'-'\u001b[0m\u001b[1;33m+\u001b[0m\u001b[0mcnf\u001b[0m\u001b[1;33m)\u001b[0m\u001b[1;33m)\u001b[0m\u001b[1;33m)\u001b[0m\u001b[1;33m\u001b[0m\u001b[1;33m\u001b[0m\u001b[0m\n\u001b[1;32m-> 1476\u001b[1;33m         \u001b[0mself\u001b[0m\u001b[1;33m.\u001b[0m\u001b[0mtk\u001b[0m\u001b[1;33m.\u001b[0m\u001b[0mcall\u001b[0m\u001b[1;33m(\u001b[0m\u001b[0m_flatten\u001b[0m\u001b[1;33m(\u001b[0m\u001b[1;33m(\u001b[0m\u001b[0mself\u001b[0m\u001b[1;33m.\u001b[0m\u001b[0m_w\u001b[0m\u001b[1;33m,\u001b[0m \u001b[0mcmd\u001b[0m\u001b[1;33m)\u001b[0m\u001b[1;33m)\u001b[0m \u001b[1;33m+\u001b[0m \u001b[0mself\u001b[0m\u001b[1;33m.\u001b[0m\u001b[0m_options\u001b[0m\u001b[1;33m(\u001b[0m\u001b[0mcnf\u001b[0m\u001b[1;33m)\u001b[0m\u001b[1;33m)\u001b[0m\u001b[1;33m\u001b[0m\u001b[1;33m\u001b[0m\u001b[0m\n\u001b[0m\u001b[0;32m   1477\u001b[0m     \u001b[1;31m# These used to be defined in Widget:\u001b[0m\u001b[1;33m\u001b[0m\u001b[1;33m\u001b[0m\u001b[1;33m\u001b[0m\u001b[0m\n\u001b[0;32m   1478\u001b[0m     \u001b[1;32mdef\u001b[0m \u001b[0mconfigure\u001b[0m\u001b[1;33m(\u001b[0m\u001b[0mself\u001b[0m\u001b[1;33m,\u001b[0m \u001b[0mcnf\u001b[0m\u001b[1;33m=\u001b[0m\u001b[1;32mNone\u001b[0m\u001b[1;33m,\u001b[0m \u001b[1;33m**\u001b[0m\u001b[0mkw\u001b[0m\u001b[1;33m)\u001b[0m\u001b[1;33m:\u001b[0m\u001b[1;33m\u001b[0m\u001b[1;33m\u001b[0m\u001b[0m\n",
      "\u001b[1;31mTclError\u001b[0m: invalid command name \".!canvas\""
     ]
    }
   ],
   "source": [
    "from tkinter import *\n",
    "from tkinter import colorchooser\n",
    "import tkinter.simpledialog as ts\n",
    "import tkinter.messagebox as tm\n",
    "\n",
    "\n",
    "def stopAndRestart():\n",
    "    global buttonState, speed, currentSpeed\n",
    "    if buttonState:\n",
    "        currentSpeed = speed\n",
    "        speed = 0\n",
    "        buttonState = 0\n",
    "    else :\n",
    "        speed = currentSpeed\n",
    "        buttonState = 1\n",
    "\n",
    "def owlSpeed(x):\n",
    "    global speed, buttonState, currentSpeed, textPosition, canvasCreate\n",
    "    if x == 'higher':\n",
    "        speed += 2\n",
    "    elif x == 'lower':\n",
    "        speed -= 2\n",
    "    else :\n",
    "        speed, buttonState, currentSpeed, textPosition = 0, 1, 5, 3\n",
    "        canvas.delete('catch')\n",
    "        canvasCreate = canvas.create_text(10, 30, text = owl, tags = 'catch')\n",
    "\n",
    "owl = '''\n",
    "     △▲△\n",
    "     {●,●}\n",
    "   ＼______/\n",
    "     _``_``_'''\n",
    "owl2 = '''\n",
    "     △▲△\n",
    "     {●,●}\n",
    "   ／______＼\n",
    "     _``_``_'''\n",
    "\n",
    "\n",
    "textPosition = 3\n",
    "speed = 5\n",
    "currentSpeed = 5\n",
    "buttonState = 1\n",
    "owlState = 1\n",
    "window = Tk()\n",
    "window.title(\"숫자 맞추기\")\n",
    "\n",
    "#canvas\n",
    "canvas = Canvas(window, width = 250, height = 100)\n",
    "canvas.grid(row = 0, column = 0, columnspan = 4)\n",
    "canvasCreate = canvas.create_text(10, 30, text = owl, tags = 'catch')\n",
    "#button\n",
    "btn1 = Button(window, text = \"■\",\\\n",
    "             command = lambda x = 'stop' : owlSpeed(x))\n",
    "btn2 = Button(window, text = \"빠르게\",\\\n",
    "             command = lambda x = 'higher' : owlSpeed(x))\n",
    "btn3 = Button(window, text = \"느리게\",\\\n",
    "             command = lambda x = 'lower' : owlSpeed(x))\n",
    "btn4 = Button(window, text = \"|| / ▶\",\\\n",
    "             command = stopAndRestart)\n",
    "btn1.grid(row = 1, column = 0, padx = 2)\n",
    "btn2.grid(row = 1, column = 1, padx = 2)\n",
    "btn3.grid(row = 1, column = 2, padx = 2)\n",
    "btn4.grid(row = 1, column = 3, padx = 2)\n",
    "\n",
    "while True:\n",
    "    canvas.move('catch', speed, 0)\n",
    "    canvas.after(100)\n",
    "    canvas.update()\n",
    "    if not speed:\n",
    "        owlState = 1\n",
    "    elif owlState:\n",
    "        canvas.itemconfig(canvasCreate, text = owl2)\n",
    "        owlState = 0\n",
    "    else:\n",
    "        canvas.itemconfig(canvasCreate, text = owl)\n",
    "        owlState = 1\n",
    "    textPosition += speed\n",
    "    if textPosition >= 240:\n",
    "        textPosition, owlState = 0, 1\n",
    "        canvas.delete('catch')\n",
    "        canvasCreate = canvas.create_text(10, 30, text = owl, tags = 'catch')\n",
    "\n",
    "        \n",
    "window.mainloop()"
   ]
  },
  {
   "cell_type": "markdown",
   "metadata": {},
   "source": [
    "##### 회문찾기(큐와 스택)"
   ]
  },
  {
   "cell_type": "code",
   "execution_count": 188,
   "metadata": {},
   "outputs": [
    {
     "name": "stdout",
     "output_type": "stream",
     "text": [
      "input : 가나다라다나가\n"
     ]
    },
    {
     "data": {
      "text/plain": [
       "'same'"
      ]
     },
     "execution_count": 188,
     "metadata": {},
     "output_type": "execute_result"
    }
   ],
   "source": [
    "def palindrome(s):\n",
    "    qu = []\n",
    "    st = []\n",
    "    for x in s:\n",
    "        if x.isalpha():\n",
    "            qu.append(x.lower())\n",
    "            st.append(x.lower())\n",
    "    while qu:\n",
    "        if qu.pop(0) != st.pop():\n",
    "            return -1\n",
    "    else:\n",
    "        return 'same'\n",
    "sen = input('input : ')\n",
    "palindrome(sen)"
   ]
  },
  {
   "cell_type": "code",
   "execution_count": 192,
   "metadata": {},
   "outputs": [
    {
     "name": "stdout",
     "output_type": "stream",
     "text": [
      "input : tenet\n",
      "tenet\n",
      "tenet\n"
     ]
    },
    {
     "data": {
      "text/plain": [
       "'same'"
      ]
     },
     "execution_count": 192,
     "metadata": {},
     "output_type": "execute_result"
    }
   ],
   "source": [
    "def palindrome(s):\n",
    "    qu = []\n",
    "    st = []\n",
    "    for x in s:\n",
    "        if x.isalpha():\n",
    "            qu.append(x.lower())\n",
    "            st.append(x.lower())\n",
    "            \n",
    "    if ''.join(qu) == ''.join(st):\n",
    "        return 'same'\n",
    "    else:\n",
    "        return -1\n",
    "    \n",
    "sen = input('input : ')\n",
    "palindrome(sen)"
   ]
  },
  {
   "cell_type": "code",
   "execution_count": 204,
   "metadata": {},
   "outputs": [
    {
     "data": {
      "text/plain": [
       "{'Justin': 1, 'John': 2, 'Mike': 3, 'summer': 5}"
      ]
     },
     "execution_count": 204,
     "metadata": {},
     "output_type": "execute_result"
    }
   ],
   "source": [
    "d = {'Justin' : 1, 'John' : 2, 'Mike' : 3}\n",
    "d['summer'] = 5\n",
    "d"
   ]
  },
  {
   "cell_type": "code",
   "execution_count": 205,
   "metadata": {},
   "outputs": [
    {
     "data": {
      "text/plain": [
       "{'Justin': 1, 'John': 2, 'Mike': 3, 'summer': 4}"
      ]
     },
     "execution_count": 205,
     "metadata": {},
     "output_type": "execute_result"
    }
   ],
   "source": [
    "d['summer'] = 4\n",
    "d"
   ]
  },
  {
   "cell_type": "code",
   "execution_count": 208,
   "metadata": {},
   "outputs": [
    {
     "data": {
      "text/plain": [
       "'김민준'"
      ]
     },
     "execution_count": 208,
     "metadata": {},
     "output_type": "execute_result"
    }
   ],
   "source": [
    "s_info = {\n",
    "    1:'김민준',\n",
    "    2:'이유진',\n",
    "    3:'박승규'\n",
    "}\n",
    "s_info[1]"
   ]
  },
  {
   "cell_type": "code",
   "execution_count": 210,
   "metadata": {},
   "outputs": [
    {
     "data": {
      "text/plain": [
       "{1: '김민준', 2: '이유진', 3: '박승규', 4: '최재원'}"
      ]
     },
     "execution_count": 210,
     "metadata": {},
     "output_type": "execute_result"
    }
   ],
   "source": [
    "s_info[4] = '최재원'\n",
    "s_info"
   ]
  },
  {
   "cell_type": "code",
   "execution_count": 211,
   "metadata": {},
   "outputs": [
    {
     "data": {
      "text/plain": [
       "{1: '김민준', 2: '이유진', 3: '박승규'}"
      ]
     },
     "execution_count": 211,
     "metadata": {},
     "output_type": "execute_result"
    }
   ],
   "source": [
    "del s_info[4]\n",
    "s_info"
   ]
  },
  {
   "cell_type": "code",
   "execution_count": 231,
   "metadata": {},
   "outputs": [
    {
     "data": {
      "text/plain": [
       "{'인터넷', '핸드폰'}"
      ]
     },
     "execution_count": 231,
     "metadata": {},
     "output_type": "execute_result"
    }
   ],
   "source": [
    "name_dict = dict()\n",
    "lst = '홍길동 핸드폰 인터넷 전화기 인터넷 머그컵 핸드폰 신희수 크롬 폭스'.split(' ')\n",
    "result = set()\n",
    "for i in lst:\n",
    "    if not i in name_dict:\n",
    "        name_dict[i] = 1\n",
    "    else:\n",
    "        name_dict[i] +=  1\n",
    "        result.add(i)\n",
    "\n",
    "result"
   ]
  },
  {
   "cell_type": "code",
   "execution_count": 234,
   "metadata": {},
   "outputs": [
    {
     "name": "stdout",
     "output_type": "stream",
     "text": [
      "5\n",
      "8\n",
      "5\n"
     ]
    }
   ],
   "source": [
    "def b():\n",
    "    c = number + 3\n",
    "    print(c)\n",
    "    \n",
    "number = 5\n",
    "a = b()\n",
    "print(number)"
   ]
  },
  {
   "cell_type": "code",
   "execution_count": null,
   "metadata": {},
   "outputs": [],
   "source": []
  }
 ],
 "metadata": {
  "kernelspec": {
   "display_name": "Python 3",
   "language": "python",
   "name": "python3"
  },
  "language_info": {
   "codemirror_mode": {
    "name": "ipython",
    "version": 3
   },
   "file_extension": ".py",
   "mimetype": "text/x-python",
   "name": "python",
   "nbconvert_exporter": "python",
   "pygments_lexer": "ipython3",
   "version": "3.7.5"
  }
 },
 "nbformat": 4,
 "nbformat_minor": 2
}
