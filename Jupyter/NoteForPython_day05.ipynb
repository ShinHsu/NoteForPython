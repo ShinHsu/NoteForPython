{
 "cells": [
  {
   "cell_type": "code",
   "execution_count": 18,
   "metadata": {},
   "outputs": [],
   "source": [
    "def add(x, y):\n",
    "    'performs x + y test'\n",
    "    return x + y"
   ]
  },
  {
   "cell_type": "code",
   "execution_count": 19,
   "metadata": {},
   "outputs": [
    {
     "data": {
      "text/plain": [
       "7"
      ]
     },
     "execution_count": 19,
     "metadata": {},
     "output_type": "execute_result"
    }
   ],
   "source": [
    "newAdd = add\n",
    "del add\n",
    "newAdd(3, 4)"
   ]
  },
  {
   "cell_type": "code",
   "execution_count": 20,
   "metadata": {},
   "outputs": [
    {
     "data": {
      "text/plain": [
       "'performs x + y test'"
      ]
     },
     "execution_count": 20,
     "metadata": {},
     "output_type": "execute_result"
    }
   ],
   "source": [
    "newAdd.__doc__"
   ]
  },
  {
   "cell_type": "code",
   "execution_count": 21,
   "metadata": {},
   "outputs": [
    {
     "name": "stdout",
     "output_type": "stream",
     "text": [
      "Help on function add in module __main__:\n",
      "\n",
      "add(x, y)\n",
      "    performs x + y test\n",
      "\n"
     ]
    }
   ],
   "source": [
    "help(newAdd)"
   ]
  },
  {
   "cell_type": "code",
   "execution_count": 22,
   "metadata": {},
   "outputs": [
    {
     "data": {
      "text/plain": [
       "'add'"
      ]
     },
     "execution_count": 22,
     "metadata": {},
     "output_type": "execute_result"
    }
   ],
   "source": [
    "newAdd.__name__"
   ]
  },
  {
   "cell_type": "code",
   "execution_count": 23,
   "metadata": {},
   "outputs": [],
   "source": [
    "def cal(f, x, y): return f(x, y)\n",
    "def add(x, y): return x + y\n",
    "def sub(x, y): return x - y"
   ]
  },
  {
   "cell_type": "code",
   "execution_count": 24,
   "metadata": {},
   "outputs": [
    {
     "data": {
      "text/plain": [
       "7"
      ]
     },
     "execution_count": 24,
     "metadata": {},
     "output_type": "execute_result"
    }
   ],
   "source": [
    "cal (add, 3, 4)"
   ]
  },
  {
   "cell_type": "code",
   "execution_count": 25,
   "metadata": {},
   "outputs": [
    {
     "data": {
      "text/plain": [
       "-1"
      ]
     },
     "execution_count": 25,
     "metadata": {},
     "output_type": "execute_result"
    }
   ],
   "source": [
    "cal(sub, 3, 4)"
   ]
  },
  {
   "cell_type": "code",
   "execution_count": 26,
   "metadata": {},
   "outputs": [
    {
     "name": "stdout",
     "output_type": "stream",
     "text": [
      "Get out\n",
      "GET OUT!!!\n",
      "get out..\n"
     ]
    }
   ],
   "source": [
    "def yell(text): return text.upper() + '!!!'\n",
    "def whisper(text): return text.lower() + '..'\n",
    "\n",
    "funcs = [str.capitalize, yell, whisper]\n",
    "\n",
    "for f in funcs:\n",
    "    print(f('get out'))"
   ]
  },
  {
   "cell_type": "code",
   "execution_count": 27,
   "metadata": {},
   "outputs": [
    {
     "data": {
      "text/plain": [
       "'Be quiet'"
      ]
     },
     "execution_count": 27,
     "metadata": {},
     "output_type": "execute_result"
    }
   ],
   "source": [
    "funcs[0]('be quiet')"
   ]
  },
  {
   "cell_type": "code",
   "execution_count": 28,
   "metadata": {},
   "outputs": [
    {
     "data": {
      "text/plain": [
       "<function __main__.yell(text)>"
      ]
     },
     "execution_count": 28,
     "metadata": {},
     "output_type": "execute_result"
    }
   ],
   "source": [
    "funcs[1]"
   ]
  },
  {
   "cell_type": "code",
   "execution_count": 29,
   "metadata": {},
   "outputs": [
    {
     "data": {
      "text/plain": [
       "'BE QUIET!!!'"
      ]
     },
     "execution_count": 29,
     "metadata": {},
     "output_type": "execute_result"
    }
   ],
   "source": [
    "funcs[1]('Be quiet')"
   ]
  },
  {
   "cell_type": "markdown",
   "metadata": {},
   "source": [
    "#### lambda 함수\n",
    "- 익명 함수\n",
    "- 메모리절약 + 가독성 향상\n",
    "\n",
    "##### 함수이름 = lambda parameters1, parameters2,... : expressions"
   ]
  },
  {
   "cell_type": "code",
   "execution_count": 36,
   "metadata": {},
   "outputs": [],
   "source": [
    "def add(x, y):\n",
    "    return x + y\n",
    "\n",
    "add = lambda x, y: x + y"
   ]
  },
  {
   "cell_type": "code",
   "execution_count": 37,
   "metadata": {},
   "outputs": [
    {
     "data": {
      "text/plain": [
       "8"
      ]
     },
     "execution_count": 37,
     "metadata": {},
     "output_type": "execute_result"
    }
   ],
   "source": [
    "add(3,5)"
   ]
  },
  {
   "cell_type": "code",
   "execution_count": 44,
   "metadata": {},
   "outputs": [],
   "source": [
    "result = map(lambda x: x/10, range(10))"
   ]
  },
  {
   "cell_type": "code",
   "execution_count": 45,
   "metadata": {},
   "outputs": [
    {
     "name": "stdout",
     "output_type": "stream",
     "text": [
      "0.0\n",
      "0.1\n",
      "0.2\n",
      "0.3\n",
      "0.4\n",
      "0.5\n",
      "0.6\n",
      "0.7\n",
      "0.8\n",
      "0.9\n"
     ]
    }
   ],
   "source": [
    "for x in result:\n",
    "    print(x)"
   ]
  },
  {
   "cell_type": "code",
   "execution_count": 46,
   "metadata": {},
   "outputs": [],
   "source": [
    "result = list(map(lambda x: x/10, range(10)))"
   ]
  },
  {
   "cell_type": "code",
   "execution_count": 47,
   "metadata": {},
   "outputs": [
    {
     "data": {
      "text/plain": [
       "[0.0, 0.1, 0.2, 0.3, 0.4, 0.5, 0.6, 0.7, 0.8, 0.9]"
      ]
     },
     "execution_count": 47,
     "metadata": {},
     "output_type": "execute_result"
    }
   ],
   "source": [
    "result"
   ]
  },
  {
   "cell_type": "code",
   "execution_count": 1,
   "metadata": {},
   "outputs": [],
   "source": [
    "class miner:\n",
    "    totalMineral, totalGas, minerNum = 0, 0, 0\n",
    "    \n",
    "    def __init__(self, mineral= 0, gas = 0):\n",
    "        self.mineral = mineral\n",
    "        self.gas = gas\n",
    "        miner.totalMineral += mineral\n",
    "        miner.totalGas += gas\n",
    "        miner.minerNum += 1\n",
    "        \n",
    "    def __del__(self): miner.minerNum -= 1\n",
    "        \n",
    "    def miningMineral(self):\n",
    "        self.mineral += 10\n",
    "        miner.totalMineral += 10\n",
    "        \n",
    "    def miningGas(self):\n",
    "        self.gas += 5\n",
    "        miner.totalGas += 5\n",
    "        \n",
    "    def printMG(self):\n",
    "        print('현재 광물 %s , 현재 가스 %s' % (self.mineral, self.gas))\n",
    "        \n",
    "#     def add(self, other):\n",
    "#         return miner(self.mineral + other.mineral)\n",
    "    \n",
    "    def __add__(self, other):\n",
    "        return miner(self.mineral + other.mineral, self.gas + other.gas)\n",
    "    \n",
    "    def __sub__(self, other):\n",
    "        self.mineral, other.mineral = other.mineral, self.mineral\n",
    "        self.gas, other.gas = other.gas, self.gas\n",
    "        \n",
    "    def __mul__(self, other):\n",
    "        return (max(self.mineral, other.mineral), max(self.gas, other.gas))\n",
    "        \n",
    "        \n",
    "    @classmethod\n",
    "    def printMinerNum(cls): print(cls.minerNum)\n",
    "        \n",
    "    @classmethod\n",
    "    def printTotal(cls):\n",
    "        print('현재 광물 %s , 현재 가스 %s' % (cls.totalMineral, cls.totalGas))"
   ]
  },
  {
   "cell_type": "code",
   "execution_count": 2,
   "metadata": {},
   "outputs": [],
   "source": [
    "scv = miner()"
   ]
  },
  {
   "cell_type": "code",
   "execution_count": 3,
   "metadata": {},
   "outputs": [],
   "source": [
    "probe = miner()"
   ]
  },
  {
   "cell_type": "code",
   "execution_count": 4,
   "metadata": {},
   "outputs": [],
   "source": [
    "scv.miningMineral()"
   ]
  },
  {
   "cell_type": "code",
   "execution_count": 5,
   "metadata": {},
   "outputs": [],
   "source": [
    "probe.miningGas()"
   ]
  },
  {
   "cell_type": "code",
   "execution_count": 6,
   "metadata": {},
   "outputs": [
    {
     "name": "stdout",
     "output_type": "stream",
     "text": [
      "현재 광물 10 , 현재 가스 5\n"
     ]
    }
   ],
   "source": [
    "miner.printTotal()"
   ]
  },
  {
   "cell_type": "code",
   "execution_count": 7,
   "metadata": {},
   "outputs": [
    {
     "name": "stdout",
     "output_type": "stream",
     "text": [
      "현재 광물 10 , 현재 가스 0\n"
     ]
    }
   ],
   "source": [
    "scv.printMG()"
   ]
  },
  {
   "cell_type": "code",
   "execution_count": 8,
   "metadata": {},
   "outputs": [
    {
     "name": "stdout",
     "output_type": "stream",
     "text": [
      "현재 광물 0 , 현재 가스 5\n"
     ]
    }
   ],
   "source": [
    "probe.printMG()"
   ]
  },
  {
   "cell_type": "code",
   "execution_count": 9,
   "metadata": {},
   "outputs": [],
   "source": [
    "scv - probe"
   ]
  },
  {
   "cell_type": "code",
   "execution_count": 10,
   "metadata": {},
   "outputs": [
    {
     "name": "stdout",
     "output_type": "stream",
     "text": [
      "현재 광물 0 , 현재 가스 5\n"
     ]
    }
   ],
   "source": [
    "scv.printMG()"
   ]
  },
  {
   "cell_type": "code",
   "execution_count": 11,
   "metadata": {},
   "outputs": [
    {
     "name": "stdout",
     "output_type": "stream",
     "text": [
      "현재 광물 10 , 현재 가스 0\n"
     ]
    }
   ],
   "source": [
    "probe.printMG()"
   ]
  },
  {
   "cell_type": "code",
   "execution_count": 12,
   "metadata": {},
   "outputs": [],
   "source": [
    "drone = scv * probe"
   ]
  },
  {
   "cell_type": "code",
   "execution_count": 13,
   "metadata": {},
   "outputs": [
    {
     "data": {
      "text/plain": [
       "(10, 5)"
      ]
     },
     "execution_count": 13,
     "metadata": {},
     "output_type": "execute_result"
    }
   ],
   "source": [
    "drone"
   ]
  },
  {
   "cell_type": "code",
   "execution_count": 1,
   "metadata": {},
   "outputs": [],
   "source": [
    "class miner:\n",
    "    def __init__(self, mineral):\n",
    "        self.mineral = mineral\n",
    "    def miningMineral(self):\n",
    "        self.mineral += 10\n",
    "    def __call__(self):\n",
    "        print(self.mineral)"
   ]
  },
  {
   "cell_type": "code",
   "execution_count": 2,
   "metadata": {},
   "outputs": [],
   "source": [
    "class goldMiner(miner):\n",
    "    def __init__(self, mineral, gold):\n",
    "        super().__init__(mineral)\n",
    "        self.gold = gold\n",
    "    def miningGold(self):\n",
    "        self.gold += 10\n",
    "    def miningMineral(self):\n",
    "        self.mineral += 10 * self.gold * 0.01\n",
    "    def __call__(self):\n",
    "        print(self.mineral, self.gold)"
   ]
  },
  {
   "cell_type": "code",
   "execution_count": 3,
   "metadata": {},
   "outputs": [],
   "source": [
    "scv = goldMiner(10, 20)"
   ]
  },
  {
   "cell_type": "code",
   "execution_count": 6,
   "metadata": {},
   "outputs": [],
   "source": [
    "scv.miningMineral()\n",
    "scv.miningGold()"
   ]
  },
  {
   "cell_type": "code",
   "execution_count": 7,
   "metadata": {},
   "outputs": [
    {
     "name": "stdout",
     "output_type": "stream",
     "text": [
      "14.0 30\n"
     ]
    }
   ],
   "source": [
    "scv()"
   ]
  },
  {
   "cell_type": "code",
   "execution_count": 9,
   "metadata": {},
   "outputs": [],
   "source": [
    "probe = miner(100)"
   ]
  },
  {
   "cell_type": "code",
   "execution_count": 10,
   "metadata": {},
   "outputs": [
    {
     "name": "stdout",
     "output_type": "stream",
     "text": [
      "100\n"
     ]
    }
   ],
   "source": [
    "probe()"
   ]
  },
  {
   "cell_type": "code",
   "execution_count": 11,
   "metadata": {},
   "outputs": [
    {
     "name": "stdout",
     "output_type": "stream",
     "text": [
      "grandparent\n",
      "parent1\n",
      "grandparent\n",
      "parent2\n",
      "child\n"
     ]
    }
   ],
   "source": [
    "class grandparent:\n",
    "    def __init__(self):\n",
    "        print(\"grandparent\")\n",
    "class parent1(grandparent):\n",
    "    def __init__(self):\n",
    "        grandparent.__init__(self)\n",
    "        print(\"parent1\")\n",
    "class parent2(grandparent):\n",
    "    def __init__(self):\n",
    "        grandparent.__init__(self)\n",
    "        print(\"parent2\")\n",
    "class child(parent1, parent2):\n",
    "    def __init__(self):\n",
    "        parent1.__init__(self)\n",
    "        parent2.__init__(self)\n",
    "        print(\"child\")\n",
    "person = child()"
   ]
  },
  {
   "cell_type": "code",
   "execution_count": 13,
   "metadata": {},
   "outputs": [
    {
     "name": "stdout",
     "output_type": "stream",
     "text": [
      "grandparent\n",
      "parent2\n",
      "parent1\n",
      "child\n"
     ]
    }
   ],
   "source": [
    "class grandparent:\n",
    "    def __init__(self):\n",
    "        print(\"grandparent\")\n",
    "class parent1(grandparent):\n",
    "    def __init__(self):\n",
    "        super().__init__()\n",
    "        print(\"parent1\")\n",
    "class parent2(grandparent):\n",
    "    def __init__(self):\n",
    "        super().__init__()\n",
    "        print(\"parent2\")\n",
    "class child(parent1, parent2):\n",
    "    def __init__(self):\n",
    "        #parent1과 parent2 모두 가르키게됨\n",
    "        #가져와서 중복되는 것은 제거\n",
    "        super().__init__()\n",
    "        print(\"child\")\n",
    "person = child()"
   ]
  },
  {
   "cell_type": "code",
   "execution_count": 15,
   "metadata": {},
   "outputs": [],
   "source": [
    "import cal\n"
   ]
  },
  {
   "cell_type": "code",
   "execution_count": 16,
   "metadata": {},
   "outputs": [
    {
     "data": {
      "text/plain": [
       "8"
      ]
     },
     "execution_count": 16,
     "metadata": {},
     "output_type": "execute_result"
    }
   ],
   "source": [
    "cal.add(3, 5)"
   ]
  },
  {
   "cell_type": "code",
   "execution_count": 4,
   "metadata": {},
   "outputs": [
    {
     "name": "stdout",
     "output_type": "stream",
     "text": [
      "Height: tioslsslslsl\n",
      "invalid literal for int() with base 10: 'tioslsslslsl'\n",
      "Height: 180\n",
      "Weight: 50\n",
      "BMI: 15.432098765432098\n"
     ]
    }
   ],
   "source": [
    "def getInt(prompt):\n",
    "    while True:\n",
    "        try: inNum = int(input(prompt))\n",
    "        except ValueError as e: print(e)\n",
    "        else: return inNum\n",
    "H = getInt('Height: ')\n",
    "W = getInt('Weight: ')\n",
    "\n",
    "try: BMI = W/(H/100)**2\n",
    "except ZeroDivisionError as e: print(e)\n",
    "else: print(\"BMI:\", BMI)"
   ]
  },
  {
   "cell_type": "code",
   "execution_count": null,
   "metadata": {},
   "outputs": [],
   "source": []
  }
 ],
 "metadata": {
  "kernelspec": {
   "display_name": "Python 3",
   "language": "python",
   "name": "python3"
  },
  "language_info": {
   "codemirror_mode": {
    "name": "ipython",
    "version": 3
   },
   "file_extension": ".py",
   "mimetype": "text/x-python",
   "name": "python",
   "nbconvert_exporter": "python",
   "pygments_lexer": "ipython3",
   "version": "3.7.5"
  }
 },
 "nbformat": 4,
 "nbformat_minor": 2
}
