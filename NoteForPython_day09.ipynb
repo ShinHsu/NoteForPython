{
 "cells": [
  {
   "cell_type": "markdown",
   "metadata": {},
   "source": [
    "##### 삽입정렬"
   ]
  },
  {
   "cell_type": "code",
   "execution_count": 58,
   "metadata": {},
   "outputs": [
    {
     "data": {
      "text/plain": [
       "[1, 2, 3, 6, 7, 8]"
      ]
     },
     "execution_count": 58,
     "metadata": {},
     "output_type": "execute_result"
    }
   ],
   "source": [
    "        \n",
    "def ins(lst):\n",
    "    for i in range(1, len(lst)):\n",
    "        value = lst[i] # value = 2\n",
    "        temp = i - 1 # temp = 3\n",
    "        while temp >= 0 and lst[temp] > value: \n",
    "            lst[temp + 1] = lst[temp]\n",
    "            temp -= 1\n",
    "        lst[temp + 1] = value\n",
    "        \n",
    "#         print(lst)\n",
    "    return lst \n",
    "\n",
    "lst = [3, 1, 6, 2, 7, 8]\n",
    "ins(lst)"
   ]
  },
  {
   "cell_type": "code",
   "execution_count": 50,
   "metadata": {},
   "outputs": [
    {
     "data": {
      "text/plain": [
       "[1, 2, 3, 6, 7, 8]"
      ]
     },
     "execution_count": 50,
     "metadata": {},
     "output_type": "execute_result"
    }
   ],
   "source": [
    "def ins(lst):\n",
    "    for i in range(1, len(lst)):\n",
    "        for j in range(i, 0, -1):\n",
    "            if lst[j] < lst[j-1]:\n",
    "                lst[j],lst[j-1] = lst[j-1],lst[j]\n",
    "    return lst\n",
    "\n",
    "lst = [3, 1, 6, 2, 7, 8]\n",
    "ins(lst)"
   ]
  },
  {
   "cell_type": "code",
   "execution_count": 267,
   "metadata": {},
   "outputs": [],
   "source": [
    "from tkinter import *\n",
    "from tkinter import colorchooser\n",
    "import tkinter.simpledialog as ts\n",
    "\n",
    "def down(event):\n",
    "    global x1, y1\n",
    "    x1, y1 = (event.x), (event.y)\n",
    "\n",
    "def draw(event):\n",
    "    global x1, y1\n",
    "    x2, y2 = (event.x), (event.y)\n",
    "    canvas.create_line(x1, y1, x2, y2, fill = mycolor, width = wid)\n",
    "    x1, y1 = (event.x), (event.y)\n",
    "    \n",
    "def change_color():\n",
    "    global mycolor, wid\n",
    "    mycolor = colorchooser.askcolor()\n",
    "    mycolor = mycolor[1]\n",
    "    wid = 3\n",
    "\n",
    "def eraser():\n",
    "    global mycolor, wid\n",
    "    wid = ts.askinteger(\"지우개 크기\", \"지우개 크기를 입력하세요\")\n",
    "    mycolor = \"white\"\n",
    "    \n",
    "# def font_weight():\n",
    "#     global wid\n",
    "#     wid = ts.askinteger(\"선 굵기\", \"선 굵기를 입력하세요\")\n",
    "    \n",
    "def click(button_text):\n",
    "    global mycolor, wid\n",
    "    mycolor = button_text\n",
    "    wid = 3\n",
    "\n",
    "wid = 3    \n",
    "mycolor = \"black\"\n",
    "color_list = 'yellow red purple blue green pink black gray navy orange'.split()\n",
    "window = Tk()\n",
    "canvas = Canvas(window, width=500, height=500, bg = \"white\")\n",
    "canvas.grid(row = 0, column = 0, columnspan = 50)\n",
    "\n",
    "# frame = Frame(window, width = 25)\n",
    "# frame.pack()\n",
    "button = Button(window, text = \"색 선택\", font = \"Helvetica 16 bold\"\\\n",
    "               , command = change_color)\n",
    "button.grid(row = 1, column = 0)\n",
    "button2 = Button(window, text='지우개', font=\"Helvetica 16 bold\"\\\n",
    "                , command = eraser)\n",
    "button2.grid(row = 1, column = 1)\n",
    "# button3 = Button(window, text='글씨크기', font=\"Helvetica 16 bold\"\\\n",
    "#                 , command = font_weight)\n",
    "# button3.grid(row = 1, column = 2)\n",
    "\n",
    "row_index = 1\n",
    "\n",
    "for button_text in color_list:\n",
    "    col_index = color_list.index(button_text)\n",
    "    if col_index % 5 == 0: \n",
    "        row_index += 1\n",
    "    btn = Button(window, width = 9, bg = button_text, height = 2\\\n",
    "                 ,command = lambda bt_tx = button_text : click(bt_tx))\\\n",
    "                .grid(row = row_index, column = col_index % 5)\n",
    "\n",
    "\n",
    "canvas.bind(\"<B1-Motion>\", draw)\n",
    "canvas.bind(\"<Button-1>\", down)\n",
    "\n",
    "window.mainloop()"
   ]
  },
  {
   "cell_type": "markdown",
   "metadata": {},
   "source": [
    "#### 병합정렬"
   ]
  },
  {
   "cell_type": "code",
   "execution_count": 295,
   "metadata": {},
   "outputs": [
    {
     "name": "stdout",
     "output_type": "stream",
     "text": [
      "[1]\n",
      "[1, 1]\n",
      "[1, 1, 1]\n",
      "[1, 1, 1, 1]\n"
     ]
    },
    {
     "ename": "IndexError",
     "evalue": "pop index out of range",
     "output_type": "error",
     "traceback": [
      "\u001b[1;31m---------------------------------------------------------------------------\u001b[0m",
      "\u001b[1;31mIndexError\u001b[0m                                Traceback (most recent call last)",
      "\u001b[1;32m<ipython-input-295-77731a535b1c>\u001b[0m in \u001b[0;36m<module>\u001b[1;34m\u001b[0m\n\u001b[0;32m     26\u001b[0m \u001b[0mlst\u001b[0m\u001b[1;33m.\u001b[0m\u001b[0msort\u001b[0m\u001b[1;33m(\u001b[0m\u001b[1;33m)\u001b[0m\u001b[1;33m\u001b[0m\u001b[1;33m\u001b[0m\u001b[0m\n\u001b[0;32m     27\u001b[0m \u001b[0mlst2\u001b[0m\u001b[1;33m.\u001b[0m\u001b[0msort\u001b[0m\u001b[1;33m(\u001b[0m\u001b[1;33m)\u001b[0m\u001b[1;33m\u001b[0m\u001b[1;33m\u001b[0m\u001b[0m\n\u001b[1;32m---> 28\u001b[1;33m \u001b[0mmer_sort\u001b[0m\u001b[1;33m(\u001b[0m\u001b[0mlst\u001b[0m\u001b[1;33m,\u001b[0m \u001b[0mlst2\u001b[0m\u001b[1;33m)\u001b[0m\u001b[1;33m\u001b[0m\u001b[1;33m\u001b[0m\u001b[0m\n\u001b[0m",
      "\u001b[1;32m<ipython-input-295-77731a535b1c>\u001b[0m in \u001b[0;36mmer_sort\u001b[1;34m(lst, lst2)\u001b[0m\n\u001b[0;32m     15\u001b[0m         \u001b[1;32melse\u001b[0m\u001b[1;33m:\u001b[0m\u001b[1;33m\u001b[0m\u001b[1;33m\u001b[0m\u001b[0m\n\u001b[0;32m     16\u001b[0m             \u001b[0mresult\u001b[0m\u001b[1;33m.\u001b[0m\u001b[0mappend\u001b[0m\u001b[1;33m(\u001b[0m\u001b[0mlst\u001b[0m\u001b[1;33m[\u001b[0m\u001b[1;36m0\u001b[0m\u001b[1;33m]\u001b[0m\u001b[1;33m)\u001b[0m\u001b[1;33m\u001b[0m\u001b[1;33m\u001b[0m\u001b[0m\n\u001b[1;32m---> 17\u001b[1;33m             \u001b[0mlst\u001b[0m\u001b[1;33m.\u001b[0m\u001b[0mpop\u001b[0m\u001b[1;33m(\u001b[0m\u001b[0mlst\u001b[0m\u001b[1;33m[\u001b[0m\u001b[1;36m0\u001b[0m\u001b[1;33m]\u001b[0m\u001b[1;33m)\u001b[0m\u001b[1;33m\u001b[0m\u001b[1;33m\u001b[0m\u001b[0m\n\u001b[0m\u001b[0;32m     18\u001b[0m \u001b[1;33m\u001b[0m\u001b[0m\n\u001b[0;32m     19\u001b[0m         \u001b[0mprint\u001b[0m\u001b[1;33m(\u001b[0m\u001b[0mresult\u001b[0m\u001b[1;33m)\u001b[0m\u001b[1;33m\u001b[0m\u001b[1;33m\u001b[0m\u001b[0m\n",
      "\u001b[1;31mIndexError\u001b[0m: pop index out of range"
     ]
    }
   ],
   "source": [
    "def mer_sort(lst, lst2):\n",
    "    #1,2,4,5,6\n",
    "    #3,7,8,9,10\n",
    "    result = list()\n",
    "    while lst and lst2:\n",
    "        if not lst:\n",
    "            result.append(lst[0])\n",
    "            lst.pop(lst[0])\n",
    "        elif not lst2:\n",
    "            result.append(lst2[0])\n",
    "            lst2.pop(lst2[0])\n",
    "        if lst[0] > lst2[0] : \n",
    "            result.append(lst2[0])\n",
    "            lst2.pop(lst2[0])\n",
    "        else:\n",
    "            result.append(lst[0])\n",
    "            lst.pop(lst[0])\n",
    "        \n",
    "        print(result)\n",
    "            \n",
    "    return result\n",
    "    \n",
    "    \n",
    "lst = [5,2,1,4,6]\n",
    "lst2 = [7,3,8,9,10]\n",
    "lst.sort()\n",
    "lst2.sort()\n",
    "mer_sort(lst, lst2)"
   ]
  },
  {
   "cell_type": "code",
   "execution_count": 331,
   "metadata": {},
   "outputs": [
    {
     "data": {
      "text/plain": [
       "[1, 2, 3, 4, 5, 6, 7, 8, 9, 10, 11, 12, 13, 14]"
      ]
     },
     "execution_count": 331,
     "metadata": {},
     "output_type": "execute_result"
    }
   ],
   "source": [
    "def mer_sort(lst, lst2):\n",
    "    #1,2,4,5,6\n",
    "    #3,7,8,9,10\n",
    "    result = list()\n",
    "    while lst and lst2:\n",
    "        if lst[0] > lst2[0]:\n",
    "            result.append(lst2[0])\n",
    "            lst2.pop(0)\n",
    "        else:\n",
    "            result.append(lst[0])\n",
    "            lst.pop(0)\n",
    "            \n",
    "    if not lst:\n",
    "        result.extend(lst2)\n",
    "    else:\n",
    "        result.extend(lst)\n",
    "        \n",
    "    return result\n",
    "\n",
    "def num_sort(lst):\n",
    "    #선택 정렬 사용\n",
    "    for i in range(len(lst)):\n",
    "        lst[lst.index(min(lst[i:]))], lst[i] = lst[i], lst[lst.index(min(lst[i:]))]\n",
    "    return lst\n",
    "    \n",
    "\n",
    "def main(lst, lst2):\n",
    "    num_sort(lst)\n",
    "    num_sort(lst2)\n",
    "    \n",
    "    result = mer_sort(lst, lst2)\n",
    "    return result\n",
    "\n",
    "lst = [5,2,1,7,6,11,13]\n",
    "lst2 = [3,10,12,14,4,9,8]\n",
    "main(lst, lst2)"
   ]
  },
  {
   "cell_type": "code",
   "execution_count": 379,
   "metadata": {},
   "outputs": [],
   "source": [
    "from tkinter import *\n",
    "from tkinter import colorchooser\n",
    "import tkinter.simpledialog as ts\n",
    "import random\n",
    "\n",
    "\n",
    "def confirm(event):\n",
    "    global number, count\n",
    "    count += 1\n",
    "    userNumber = int(entry.get())\n",
    "    entry.delete(0, END)\n",
    "    if count > 5:\n",
    "        return label.config(text='틀렸습니다.')\n",
    "    elif userNumber > number:\n",
    "        label.config(text = \"낮아요. 횟수 : %d\" % count)\n",
    "    elif userNumber < number:\n",
    "        label.config(text = \"높아요. 횟수 : %d\" % count)\n",
    "    else:\n",
    "        label.config(text = \"%s번 만에 맞췄습니다.\" % count)\n",
    "        count = 0\n",
    "        \n",
    "        \n",
    "def newGame():\n",
    "    global number, count\n",
    "    number = random.randint(1, 20)\n",
    "    label.config(text = \"숫자를 맞춰보세요(1 ~ 20)\")\n",
    "    entry.delete(0, END)\n",
    "    count = 0\n",
    "\n",
    "\n",
    "number = random.randint(1, 20)\n",
    "count = 0\n",
    "\n",
    "window = Tk()\n",
    "window.title(\"숫자 맞추기\")\n",
    "window.geometry('300x100')\n",
    "label = Label(window, text = \"숫자를 맞춰보세요(1 ~ 20)\")\n",
    "entry = Entry(window)\n",
    "btn1 = Button(window, text = \"확인\", command = confirm)\n",
    "btn2 = Button(window, text = \"새 게임\", command = newGame)\n",
    "label.grid(row = 0, column = 0, columnspan = 2)\n",
    "entry.grid(row = 1, column = 0, columnspan = 2)\n",
    "btn1.grid(row = 2, column = 0)\n",
    "btn2.grid(row = 2, column = 1)\n",
    "\n",
    "entry.bind_all(\"<KeyPress-Return>\", confirm)\n",
    "window.mainloop()"
   ]
  },
  {
   "cell_type": "code",
   "execution_count": 116,
   "metadata": {},
   "outputs": [
    {
     "name": "stdout",
     "output_type": "stream",
     "text": [
      "baaaadwer\n",
      "A\n"
     ]
    }
   ],
   "source": [
    "words = input().lower().strip()\n",
    "word_list = list(set(words))\n",
    "counts = []\n",
    "for i in word_list:\n",
    "    counts.append(words.count(i))\n",
    "\n",
    "if counts.count(max(counts)) >= 2:\n",
    "    print('?')\n",
    "else:\n",
    "    print(word_list[(counts.index(max(counts)))].upper())\n",
    "    "
   ]
  },
  {
   "cell_type": "code",
   "execution_count": 125,
   "metadata": {},
   "outputs": [
    {
     "name": "stdout",
     "output_type": "stream",
     "text": [
      "Mazatneunde Wae Teullyeoyo\n",
      "3\n"
     ]
    }
   ],
   "source": [
    "sen = input().strip().split()\n",
    "print(len(sen))\n"
   ]
  },
  {
   "cell_type": "code",
   "execution_count": 270,
   "metadata": {},
   "outputs": [
    {
     "name": "stdout",
     "output_type": "stream",
     "text": [
      "sdsdfsdf\n"
     ]
    },
    {
     "data": {
      "text/plain": [
       "['s', 'd', 's', 'd', 'f', 's', 'd', 'f']"
      ]
     },
     "execution_count": 270,
     "metadata": {},
     "output_type": "execute_result"
    }
   ],
   "source": [
    "sen = input().strip().lower()\n",
    "sen_lst = [x for x in sen]\n",
    "result = []\n",
    "for i in range(ord('a'), ord('z') + 1):\n",
    "    if chr(i) in sen_lst:\n",
    "        result.insert(i-(i-1), "
   ]
  },
  {
   "cell_type": "code",
   "execution_count": 272,
   "metadata": {},
   "outputs": [
    {
     "name": "stdout",
     "output_type": "stream",
     "text": [
      "97\n"
     ]
    }
   ],
   "source": [
    "print(ord('a'))"
   ]
  }
 ],
 "metadata": {
  "kernelspec": {
   "display_name": "Python 3",
   "language": "python",
   "name": "python3"
  },
  "language_info": {
   "codemirror_mode": {
    "name": "ipython",
    "version": 3
   },
   "file_extension": ".py",
   "mimetype": "text/x-python",
   "name": "python",
   "nbconvert_exporter": "python",
   "pygments_lexer": "ipython3",
   "version": "3.7.5"
  }
 },
 "nbformat": 4,
 "nbformat_minor": 2
}
