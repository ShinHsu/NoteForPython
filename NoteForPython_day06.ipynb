{
 "cells": [
  {
   "cell_type": "markdown",
   "metadata": {},
   "source": [
    "##### num의 절대값"
   ]
  },
  {
   "cell_type": "code",
   "execution_count": 27,
   "metadata": {},
   "outputs": [
    {
     "name": "stdout",
     "output_type": "stream",
     "text": [
      "number : -10\n"
     ]
    },
    {
     "data": {
      "text/plain": [
       "10"
      ]
     },
     "execution_count": 27,
     "metadata": {},
     "output_type": "execute_result"
    }
   ],
   "source": [
    "def abs1(number):\n",
    "    if number >= 0: return(number)\n",
    "    else : return -(number)\n",
    "    \n",
    "num = int(input('number : '))\n",
    "abs1(num)"
   ]
  },
  {
   "cell_type": "code",
   "execution_count": 29,
   "metadata": {},
   "outputs": [
    {
     "name": "stdout",
     "output_type": "stream",
     "text": [
      "number : -10\n"
     ]
    },
    {
     "data": {
      "text/plain": [
       "10"
      ]
     },
     "execution_count": 29,
     "metadata": {},
     "output_type": "execute_result"
    }
   ],
   "source": [
    "import math\n",
    "\n",
    "def abs2(number):\n",
    "    return int(math.sqrt(number ** 2))\n",
    "\n",
    "num = int(input('number : '))\n",
    "abs2(num)"
   ]
  },
  {
   "cell_type": "markdown",
   "metadata": {},
   "source": [
    "#### 1부터 n까지 합"
   ]
  },
  {
   "cell_type": "code",
   "execution_count": 9,
   "metadata": {},
   "outputs": [
    {
     "name": "stdout",
     "output_type": "stream",
     "text": [
      "number : 100\n"
     ]
    },
    {
     "data": {
      "text/plain": [
       "5050"
      ]
     },
     "execution_count": 9,
     "metadata": {},
     "output_type": "execute_result"
    }
   ],
   "source": [
    "def sum_n(num):\n",
    "    temp = 0\n",
    "    for i in range(1, num + 1): temp += i \n",
    "    return temp\n",
    "\n",
    "num = int(input('number : '))\n",
    "sum_n(num)"
   ]
  },
  {
   "cell_type": "code",
   "execution_count": 22,
   "metadata": {},
   "outputs": [
    {
     "name": "stdout",
     "output_type": "stream",
     "text": [
      "number : 100\n"
     ]
    },
    {
     "data": {
      "text/plain": [
       "5050"
      ]
     },
     "execution_count": 22,
     "metadata": {},
     "output_type": "execute_result"
    }
   ],
   "source": [
    "def sum_n(num):\n",
    "    return num * (num + 1) // 2\n",
    "\n",
    "num = int(input('number : '))\n",
    "sum_n(num)"
   ]
  },
  {
   "cell_type": "markdown",
   "metadata": {},
   "source": [
    "#### 복잡도 계산 (빅 O 표기법)\n",
    "- O(n) : 필요한 계산 횟수가 입력 크기 n과 비례할 때\n",
    "- O(n) : 필요한 계산 횟수가 입력 크기 n과 무관할 대"
   ]
  },
  {
   "cell_type": "code",
   "execution_count": 23,
   "metadata": {},
   "outputs": [
    {
     "name": "stdout",
     "output_type": "stream",
     "text": [
      "number : 10\n"
     ]
    },
    {
     "data": {
      "text/plain": [
       "385"
      ]
     },
     "execution_count": 23,
     "metadata": {},
     "output_type": "execute_result"
    }
   ],
   "source": [
    "def sqrt_n(num):\n",
    "    temp = 0\n",
    "    for i in range(1, num + 1): temp += (i ** 2)\n",
    "    return temp\n",
    "\n",
    "num = int(input('number : '))\n",
    "sqrt_n(num)\n",
    "\n",
    "# 대입 n + 1\n",
    "# 계산 2n\n",
    "# 복잡도 3n + 1 = n"
   ]
  },
  {
   "cell_type": "code",
   "execution_count": 39,
   "metadata": {},
   "outputs": [
    {
     "name": "stdout",
     "output_type": "stream",
     "text": [
      "number : 10\n"
     ]
    },
    {
     "data": {
      "text/plain": [
       "385"
      ]
     },
     "execution_count": 39,
     "metadata": {},
     "output_type": "execute_result"
    }
   ],
   "source": [
    "def sqrt_n(num):\n",
    "    return (num * (num + 1) * ((2 *num) + 1)) // 6\n",
    "\n",
    "num = int(input('number : '))\n",
    "sqrt_n(num)\n",
    "\n",
    "# 복잡도 n"
   ]
  },
  {
   "cell_type": "markdown",
   "metadata": {},
   "source": [
    "#### 최대값 찾기"
   ]
  },
  {
   "cell_type": "code",
   "execution_count": 43,
   "metadata": {},
   "outputs": [
    {
     "data": {
      "text/plain": [
       "[5, 7, 9]"
      ]
     },
     "execution_count": 43,
     "metadata": {},
     "output_type": "execute_result"
    }
   ],
   "source": [
    "a = [5, 7, 9]\n",
    "a"
   ]
  },
  {
   "cell_type": "code",
   "execution_count": 56,
   "metadata": {},
   "outputs": [
    {
     "data": {
      "text/plain": [
       "92"
      ]
     },
     "execution_count": 56,
     "metadata": {},
     "output_type": "execute_result"
    }
   ],
   "source": [
    "def find_max(lst):\n",
    "    max = 0\n",
    "    for i in lst: \n",
    "        if i > max : max = i\n",
    "    return max\n",
    "    \n",
    "lst = [17, 92, 18, 33, 58, 7, 33, 42]\n",
    "find_max(lst)"
   ]
  },
  {
   "cell_type": "code",
   "execution_count": 4,
   "metadata": {},
   "outputs": [
    {
     "data": {
      "text/plain": [
       "(92, 1)"
      ]
     },
     "execution_count": 4,
     "metadata": {},
     "output_type": "execute_result"
    }
   ],
   "source": [
    "def find_max(lst):\n",
    "    max = 0\n",
    "    for i in lst: \n",
    "        if i > max : max = i\n",
    "    return max, lst.index(max)\n",
    "    \n",
    "lst = [17, 92, 18, 33, 58, 7, 33, 42]\n",
    "find_max(lst)"
   ]
  },
  {
   "cell_type": "code",
   "execution_count": 2,
   "metadata": {},
   "outputs": [
    {
     "data": {
      "text/plain": [
       "1"
      ]
     },
     "execution_count": 2,
     "metadata": {},
     "output_type": "execute_result"
    }
   ],
   "source": [
    "def find_max(lst):\n",
    "    pos = 0\n",
    "    for i in range(1, len(lst)):\n",
    "        if lst[i] > lst[pos] :\n",
    "            pos = i\n",
    "    return pos\n",
    "    \n",
    "lst = [17, 92, 18, 33, 58, 7, 33, 42]\n",
    "find_max(lst)"
   ]
  },
  {
   "cell_type": "code",
   "execution_count": 6,
   "metadata": {},
   "outputs": [
    {
     "data": {
      "text/plain": [
       "(7, 5)"
      ]
     },
     "execution_count": 6,
     "metadata": {},
     "output_type": "execute_result"
    }
   ],
   "source": [
    "def find_min(lst):\n",
    "    min = lst[0]\n",
    "    for i in lst: \n",
    "        if i < min : min = i\n",
    "    return min, lst.index(min)\n",
    "    \n",
    "lst = [17, 92, 18, 33, 58, 7, 33, 42]\n",
    "find_min(lst)"
   ]
  },
  {
   "cell_type": "code",
   "execution_count": 1,
   "metadata": {},
   "outputs": [
    {
     "data": {
      "text/plain": [
       "(7, 5)"
      ]
     },
     "execution_count": 1,
     "metadata": {},
     "output_type": "execute_result"
    }
   ],
   "source": [
    "def find_min_idx(lst):\n",
    "    pos = 0\n",
    "    for i in range(1, len(lst)):\n",
    "        if int(lst[i]) < lst[pos] : pos = i\n",
    "    return lst[pos], pos\n",
    "    \n",
    "lst = [17, 92, 18, 33, 58, 7, 33, 42]\n",
    "find_min_idx(lst)"
   ]
  },
  {
   "cell_type": "markdown",
   "metadata": {},
   "source": [
    "##### 집합 a.set() 에서는 중복 제거, .pop()하면 맨 앞에꺼 pop"
   ]
  },
  {
   "cell_type": "code",
   "execution_count": 2,
   "metadata": {},
   "outputs": [
    {
     "data": {
      "text/plain": [
       "1"
      ]
     },
     "execution_count": 2,
     "metadata": {},
     "output_type": "execute_result"
    }
   ],
   "source": [
    "\n",
    "s = set()\n",
    "s.add(1)\n",
    "s.add(2)\n",
    "s.add(2)\n",
    "s\n",
    "s.pop()"
   ]
  },
  {
   "cell_type": "markdown",
   "metadata": {},
   "source": [
    "#### 동명이인 찾기"
   ]
  },
  {
   "cell_type": "code",
   "execution_count": 23,
   "metadata": {},
   "outputs": [
    {
     "data": {
      "text/plain": [
       "{'tom'}"
      ]
     },
     "execution_count": 23,
     "metadata": {},
     "output_type": "execute_result"
    }
   ],
   "source": [
    "def find_name(lst):\n",
    "    result = set()\n",
    "    for i in range(len(lst) - 1):\n",
    "        for j in range(i + 1, len(lst)):\n",
    "            if lst[i] == lst[j]: result.add(lst[j])\n",
    "    return result\n",
    "\n",
    "lst = ['tom', 'jerry', 'mike', 'tom']\n",
    "find_name(lst)"
   ]
  },
  {
   "cell_type": "code",
   "execution_count": 24,
   "metadata": {},
   "outputs": [
    {
     "data": {
      "text/plain": [
       "{'mike', 'tom'}"
      ]
     },
     "execution_count": 24,
     "metadata": {},
     "output_type": "execute_result"
    }
   ],
   "source": [
    "lst2 = ['tom', 'jerry', 'mike', 'tom', 'mike']\n",
    "find_name(lst2)"
   ]
  },
  {
   "cell_type": "markdown",
   "metadata": {},
   "source": [
    "##### 팩토리얼"
   ]
  },
  {
   "cell_type": "code",
   "execution_count": 38,
   "metadata": {},
   "outputs": [
    {
     "name": "stdout",
     "output_type": "stream",
     "text": [
      "number : 5\n"
     ]
    },
    {
     "data": {
      "text/plain": [
       "120"
      ]
     },
     "execution_count": 38,
     "metadata": {},
     "output_type": "execute_result"
    }
   ],
   "source": [
    "def fact(num):\n",
    "    result = 1\n",
    "    for i in range(2, num + 1): result *= i\n",
    "    return result\n",
    "\n",
    "num = int(input('number : '))\n",
    "fact(num)"
   ]
  },
  {
   "cell_type": "markdown",
   "metadata": {},
   "source": [
    "##### 재귀 함수"
   ]
  },
  {
   "cell_type": "code",
   "execution_count": 1,
   "metadata": {},
   "outputs": [
    {
     "name": "stdout",
     "output_type": "stream",
     "text": [
      "nubmer : 5\n"
     ]
    },
    {
     "data": {
      "text/plain": [
       "120"
      ]
     },
     "execution_count": 1,
     "metadata": {},
     "output_type": "execute_result"
    }
   ],
   "source": [
    "def fact(num):\n",
    "    if num == 1: return 1\n",
    "    return num * fact(num - 1)\n",
    "\n",
    "num = int(input('nubmer : '))\n",
    "fact(num)"
   ]
  },
  {
   "cell_type": "code",
   "execution_count": 2,
   "metadata": {},
   "outputs": [
    {
     "name": "stdout",
     "output_type": "stream",
     "text": [
      "nubmer : 10\n"
     ]
    },
    {
     "data": {
      "text/plain": [
       "55"
      ]
     },
     "execution_count": 2,
     "metadata": {},
     "output_type": "execute_result"
    }
   ],
   "source": [
    "def fact(num):\n",
    "    if num == 1: return 1\n",
    "    return num + fact(num - 1)\n",
    "\n",
    "num = int(input('nubmer : '))\n",
    "fact(num)"
   ]
  },
  {
   "cell_type": "code",
   "execution_count": 15,
   "metadata": {},
   "outputs": [
    {
     "data": {
      "text/plain": [
       "90"
      ]
     },
     "execution_count": 15,
     "metadata": {},
     "output_type": "execute_result"
    }
   ],
   "source": [
    "def comp(arr1, arr2):\n",
    "    if arr1 > arr2 : return arr1\n",
    "    else : return arr2 \n",
    "    \n",
    "def find_max(lst, index):\n",
    "    if index == 1: return comp(lst[index], lst[index-1])\n",
    "    return comp(lst[index], find_max(lst, index-1))\n",
    "\n",
    "lst = [17, 60, 18, 33, 90, 7, 33, 42]\n",
    "find_max(lst, len(lst) - 1)"
   ]
  },
  {
   "cell_type": "code",
   "execution_count": 10,
   "metadata": {},
   "outputs": [
    {
     "name": "stdout",
     "output_type": "stream",
     "text": [
      "number : 7\n"
     ]
    },
    {
     "data": {
      "text/plain": [
       "13"
      ]
     },
     "execution_count": 10,
     "metadata": {},
     "output_type": "execute_result"
    }
   ],
   "source": [
    "def func(num):\n",
    "    if num < 2: return num\n",
    "    return func(num - 1) + func(num - 2)\n",
    "    \n",
    "num = int(input('number : '))\n",
    "func(num)"
   ]
  },
  {
   "cell_type": "code",
   "execution_count": null,
   "metadata": {},
   "outputs": [],
   "source": []
  }
 ],
 "metadata": {
  "kernelspec": {
   "display_name": "Python 3",
   "language": "python",
   "name": "python3"
  },
  "language_info": {
   "codemirror_mode": {
    "name": "ipython",
    "version": 3
   },
   "file_extension": ".py",
   "mimetype": "text/x-python",
   "name": "python",
   "nbconvert_exporter": "python",
   "pygments_lexer": "ipython3",
   "version": "3.7.5"
  }
 },
 "nbformat": 4,
 "nbformat_minor": 2
}
