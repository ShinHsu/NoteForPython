{
 "cells": [
  {
   "cell_type": "markdown",
   "metadata": {},
   "source": [
    "##### num의 절대값"
   ]
  },
  {
   "cell_type": "code",
   "execution_count": 27,
   "metadata": {},
   "outputs": [
    {
     "name": "stdout",
     "output_type": "stream",
     "text": [
      "number : -10\n"
     ]
    },
    {
     "data": {
      "text/plain": [
       "10"
      ]
     },
     "execution_count": 27,
     "metadata": {},
     "output_type": "execute_result"
    }
   ],
   "source": [
    "def abs1(number):\n",
    "    if number >= 0: return(number)\n",
    "    else : return -(number)\n",
    "    \n",
    "num = int(input('number : '))\n",
    "abs1(num)"
   ]
  },
  {
   "cell_type": "code",
   "execution_count": 29,
   "metadata": {},
   "outputs": [
    {
     "name": "stdout",
     "output_type": "stream",
     "text": [
      "number : -10\n"
     ]
    },
    {
     "data": {
      "text/plain": [
       "10"
      ]
     },
     "execution_count": 29,
     "metadata": {},
     "output_type": "execute_result"
    }
   ],
   "source": [
    "import math\n",
    "\n",
    "def abs2(number):\n",
    "    return int(math.sqrt(number ** 2))\n",
    "\n",
    "num = int(input('number : '))\n",
    "abs2(num)"
   ]
  },
  {
   "cell_type": "markdown",
   "metadata": {},
   "source": [
    "#### 1부터 n까지 합"
   ]
  },
  {
   "cell_type": "code",
   "execution_count": 9,
   "metadata": {},
   "outputs": [
    {
     "name": "stdout",
     "output_type": "stream",
     "text": [
      "number : 100\n"
     ]
    },
    {
     "data": {
      "text/plain": [
       "5050"
      ]
     },
     "execution_count": 9,
     "metadata": {},
     "output_type": "execute_result"
    }
   ],
   "source": [
    "def sum_n(num):\n",
    "    temp = 0\n",
    "    for i in range(1, num + 1): temp += i \n",
    "    return temp\n",
    "\n",
    "num = int(input('number : '))\n",
    "sum_n(num)"
   ]
  },
  {
   "cell_type": "code",
   "execution_count": 22,
   "metadata": {},
   "outputs": [
    {
     "name": "stdout",
     "output_type": "stream",
     "text": [
      "number : 100\n"
     ]
    },
    {
     "data": {
      "text/plain": [
       "5050"
      ]
     },
     "execution_count": 22,
     "metadata": {},
     "output_type": "execute_result"
    }
   ],
   "source": [
    "def sum_n(num):\n",
    "    return num * (num + 1) // 2\n",
    "\n",
    "num = int(input('number : '))\n",
    "sum_n(num)"
   ]
  },
  {
   "cell_type": "markdown",
   "metadata": {},
   "source": [
    "#### 복잡도 계산 (빅 O 표기법)\n",
    "- O(n) : 필요한 계산 횟수가 입력 크기 n과 비례할 때\n",
    "- O(n) : 필요한 계산 횟수가 입력 크기 n과 무관할 대"
   ]
  },
  {
   "cell_type": "code",
   "execution_count": 23,
   "metadata": {},
   "outputs": [
    {
     "name": "stdout",
     "output_type": "stream",
     "text": [
      "number : 10\n"
     ]
    },
    {
     "data": {
      "text/plain": [
       "385"
      ]
     },
     "execution_count": 23,
     "metadata": {},
     "output_type": "execute_result"
    }
   ],
   "source": [
    "def sqrt_n(num):\n",
    "    temp = 0\n",
    "    for i in range(1, num + 1): temp += (i ** 2)\n",
    "    return temp\n",
    "\n",
    "num = int(input('number : '))\n",
    "sqrt_n(num)\n",
    "\n",
    "# 대입 n + 1\n",
    "# 계산 2n\n",
    "# 복잡도 3n + 1 = n"
   ]
  },
  {
   "cell_type": "code",
   "execution_count": 39,
   "metadata": {},
   "outputs": [
    {
     "name": "stdout",
     "output_type": "stream",
     "text": [
      "number : 10\n"
     ]
    },
    {
     "data": {
      "text/plain": [
       "385"
      ]
     },
     "execution_count": 39,
     "metadata": {},
     "output_type": "execute_result"
    }
   ],
   "source": [
    "def sqrt_n(num):\n",
    "    return (num * (num + 1) * ((2 *num) + 1)) // 6\n",
    "\n",
    "num = int(input('number : '))\n",
    "sqrt_n(num)\n",
    "\n",
    "# 복잡도 n"
   ]
  },
  {
   "cell_type": "markdown",
   "metadata": {},
   "source": [
    "#### 최대값 찾기"
   ]
  },
  {
   "cell_type": "code",
   "execution_count": 43,
   "metadata": {},
   "outputs": [
    {
     "data": {
      "text/plain": [
       "[5, 7, 9]"
      ]
     },
     "execution_count": 43,
     "metadata": {},
     "output_type": "execute_result"
    }
   ],
   "source": [
    "a = [5, 7, 9]\n",
    "a"
   ]
  },
  {
   "cell_type": "code",
   "execution_count": 56,
   "metadata": {},
   "outputs": [
    {
     "data": {
      "text/plain": [
       "92"
      ]
     },
     "execution_count": 56,
     "metadata": {},
     "output_type": "execute_result"
    }
   ],
   "source": [
    "def find_max(lst):\n",
    "    max = 0\n",
    "    for i in lst: \n",
    "        if i > max : max = i\n",
    "    return max\n",
    "    \n",
    "lst = [17, 92, 18, 33, 58, 7, 33, 42]\n",
    "find_max(lst)"
   ]
  },
  {
   "cell_type": "code",
   "execution_count": 4,
   "metadata": {},
   "outputs": [
    {
     "data": {
      "text/plain": [
       "(92, 1)"
      ]
     },
     "execution_count": 4,
     "metadata": {},
     "output_type": "execute_result"
    }
   ],
   "source": [
    "def find_max(lst):\n",
    "    max = 0\n",
    "    for i in lst: \n",
    "        if i > max : max = i\n",
    "    return max, lst.index(max)\n",
    "    \n",
    "lst = [17, 92, 18, 33, 58, 7, 33, 42]\n",
    "find_max(lst)"
   ]
  },
  {
   "cell_type": "code",
   "execution_count": 2,
   "metadata": {},
   "outputs": [
    {
     "data": {
      "text/plain": [
       "1"
      ]
     },
     "execution_count": 2,
     "metadata": {},
     "output_type": "execute_result"
    }
   ],
   "source": [
    "def find_max(lst):\n",
    "    pos = 0\n",
    "    for i in range(1, len(lst)):\n",
    "        if lst[i] > lst[pos] :\n",
    "            pos = i\n",
    "    return pos\n",
    "    \n",
    "lst = [17, 92, 18, 33, 58, 7, 33, 42]\n",
    "find_max(lst)"
   ]
  },
  {
   "cell_type": "code",
   "execution_count": 6,
   "metadata": {},
   "outputs": [
    {
     "data": {
      "text/plain": [
       "(7, 5)"
      ]
     },
     "execution_count": 6,
     "metadata": {},
     "output_type": "execute_result"
    }
   ],
   "source": [
    "def find_min(lst):\n",
    "    min = lst[0]\n",
    "    for i in lst: \n",
    "        if i < min : min = i\n",
    "    return min, lst.index(min)\n",
    "    \n",
    "lst = [17, 92, 18, 33, 58, 7, 33, 42]\n",
    "find_min(lst)"
   ]
  },
  {
   "cell_type": "code",
   "execution_count": 1,
   "metadata": {},
   "outputs": [
    {
     "data": {
      "text/plain": [
       "(7, 5)"
      ]
     },
     "execution_count": 1,
     "metadata": {},
     "output_type": "execute_result"
    }
   ],
   "source": [
    "def find_min_idx(lst):\n",
    "    pos = 0\n",
    "    for i in range(1, len(lst)):\n",
    "        if int(lst[i]) < lst[pos] : pos = i\n",
    "    return lst[pos], pos\n",
    "    \n",
    "lst = [17, 92, 18, 33, 58, 7, 33, 42]\n",
    "find_min_idx(lst)"
   ]
  },
  {
   "cell_type": "markdown",
   "metadata": {},
   "source": [
    "##### 집합 a.set() 에서는 중복 제거, .pop()하면 맨 앞에꺼 pop"
   ]
  },
  {
   "cell_type": "code",
   "execution_count": 2,
   "metadata": {},
   "outputs": [
    {
     "data": {
      "text/plain": [
       "1"
      ]
     },
     "execution_count": 2,
     "metadata": {},
     "output_type": "execute_result"
    }
   ],
   "source": [
    "\n",
    "s = set()\n",
    "s.add(1)\n",
    "s.add(2)\n",
    "s.add(2)\n",
    "s\n",
    "s.pop()"
   ]
  },
  {
   "cell_type": "markdown",
   "metadata": {},
   "source": [
    "#### 동명이인 찾기"
   ]
  },
  {
   "cell_type": "code",
   "execution_count": 23,
   "metadata": {},
   "outputs": [
    {
     "data": {
      "text/plain": [
       "{'tom'}"
      ]
     },
     "execution_count": 23,
     "metadata": {},
     "output_type": "execute_result"
    }
   ],
   "source": [
    "def find_name(lst):\n",
    "    result = set()\n",
    "    for i in range(len(lst) - 1):\n",
    "        for j in range(i + 1, len(lst)):\n",
    "            if lst[i] == lst[j]: result.add(lst[j])\n",
    "    return result\n",
    "\n",
    "lst = ['tom', 'jerry', 'mike', 'tom']\n",
    "find_name(lst)"
   ]
  },
  {
   "cell_type": "code",
   "execution_count": 24,
   "metadata": {},
   "outputs": [
    {
     "data": {
      "text/plain": [
       "{'mike', 'tom'}"
      ]
     },
     "execution_count": 24,
     "metadata": {},
     "output_type": "execute_result"
    }
   ],
   "source": [
    "lst2 = ['tom', 'jerry', 'mike', 'tom', 'mike']\n",
    "find_name(lst2)"
   ]
  },
  {
   "cell_type": "markdown",
   "metadata": {},
   "source": [
    "##### 팩토리얼"
   ]
  },
  {
   "cell_type": "code",
   "execution_count": 38,
   "metadata": {},
   "outputs": [
    {
     "name": "stdout",
     "output_type": "stream",
     "text": [
      "number : 5\n"
     ]
    },
    {
     "data": {
      "text/plain": [
       "120"
      ]
     },
     "execution_count": 38,
     "metadata": {},
     "output_type": "execute_result"
    }
   ],
   "source": [
    "def fact(num):\n",
    "    result = 1\n",
    "    for i in range(2, num + 1): result *= i\n",
    "    return result\n",
    "\n",
    "num = int(input('number : '))\n",
    "fact(num)"
   ]
  },
  {
   "cell_type": "markdown",
   "metadata": {},
   "source": [
    "##### 재귀 함수"
   ]
  },
  {
   "cell_type": "code",
   "execution_count": 1,
   "metadata": {},
   "outputs": [
    {
     "name": "stdout",
     "output_type": "stream",
     "text": [
      "nubmer : 5\n"
     ]
    },
    {
     "data": {
      "text/plain": [
       "120"
      ]
     },
     "execution_count": 1,
     "metadata": {},
     "output_type": "execute_result"
    }
   ],
   "source": [
    "def fact(num):\n",
    "    if num == 1: return 1\n",
    "    return num * fact(num - 1)\n",
    "\n",
    "num = int(input('nubmer : '))\n",
    "fact(num)"
   ]
  },
  {
   "cell_type": "code",
   "execution_count": 2,
   "metadata": {},
   "outputs": [
    {
     "name": "stdout",
     "output_type": "stream",
     "text": [
      "nubmer : 10\n"
     ]
    },
    {
     "data": {
      "text/plain": [
       "55"
      ]
     },
     "execution_count": 2,
     "metadata": {},
     "output_type": "execute_result"
    }
   ],
   "source": [
    "def fact(num):\n",
    "    if num == 1: return 1\n",
    "    return num + fact(num - 1)\n",
    "\n",
    "num = int(input('nubmer : '))\n",
    "fact(num)"
   ]
  },
  {
   "cell_type": "code",
   "execution_count": 15,
   "metadata": {},
   "outputs": [
    {
     "data": {
      "text/plain": [
       "90"
      ]
     },
     "execution_count": 15,
     "metadata": {},
     "output_type": "execute_result"
    }
   ],
   "source": [
    "def comp(arr1, arr2):\n",
    "    if arr1 > arr2 : return arr1\n",
    "    else : return arr2 \n",
    "    \n",
    "def find_max(lst, index):\n",
    "    if index == 1: return comp(lst[index], lst[index-1])\n",
    "    return comp(lst[index], find_max(lst, index-1))\n",
    "\n",
    "lst = [17, 60, 18, 33, 90, 7, 33, 42]\n",
    "find_max(lst, len(lst) - 1)"
   ]
  },
  {
   "cell_type": "code",
   "execution_count": 10,
   "metadata": {},
   "outputs": [
    {
     "name": "stdout",
     "output_type": "stream",
     "text": [
      "number : 7\n"
     ]
    },
    {
     "data": {
      "text/plain": [
       "13"
      ]
     },
     "execution_count": 10,
     "metadata": {},
     "output_type": "execute_result"
    }
   ],
   "source": [
    "def func(num):\n",
    "    if num < 2: return num\n",
    "    return func(num - 1) + func(num - 2)\n",
    "    \n",
    "num = int(input('number : '))\n",
    "func(num)"
   ]
  },
  {
   "cell_type": "markdown",
   "metadata": {},
   "source": [
    "##### 하노이탑"
   ]
  },
  {
   "cell_type": "code",
   "execution_count": 22,
   "metadata": {},
   "outputs": [
    {
     "name": "stdout",
     "output_type": "stream",
     "text": [
      "number : 3\n",
      "1번 기둥 -> 3번 기둥\n",
      "1번 기둥 -> 2번 기둥\n",
      "3번 기둥 -> 2번 기둥\n",
      "1번 기둥 -> 3번 기둥\n",
      "2번 기둥 -> 1번 기둥\n",
      "2번 기둥 -> 3번 기둥\n",
      "1번 기둥 -> 3번 기둥\n"
     ]
    }
   ],
   "source": [
    "def hanoi(num, start, support, end):\n",
    "    if num == 1: print(start,'->',end); return\n",
    "    \n",
    "    hanoi(num - 1, start, end, support)\n",
    "    hanoi(1, start, support, end)\n",
    "    hanoi(num - 1, support, start, end)\n",
    "    \n",
    "num = int(input('number : '))\n",
    "hanoi(num, '1번 기둥', '2번 기둥', '3번 기둥')"
   ]
  },
  {
   "cell_type": "code",
   "execution_count": 87,
   "metadata": {},
   "outputs": [
    {
     "name": "stdout",
     "output_type": "stream",
     "text": [
      "8\n"
     ]
    }
   ],
   "source": [
    "text = 3\n",
    "var = lambda x = text : print(x + 5)\n",
    "var()"
   ]
  },
  {
   "cell_type": "code",
   "execution_count": 88,
   "metadata": {},
   "outputs": [
    {
     "name": "stdout",
     "output_type": "stream",
     "text": [
      "[1, 2, 6]\n"
     ]
    }
   ],
   "source": [
    "print(list(filter(lambda x : x> 0, [1, -3, 2, 0, -5, 6])))"
   ]
  },
  {
   "cell_type": "code",
   "execution_count": 3,
   "metadata": {},
   "outputs": [],
   "source": [
    "from tkinter import *\n",
    "from tkinter.filedialog import *\n",
    "\n",
    "def click(key):\n",
    "    if key == '=': display.insert(END, '=' + str(eval(display.get())))\n",
    "    elif key == 'C': display.delete(0, END)\n",
    "    elif key == '←': display.delete(len(display.get()) -1, END)\n",
    "    else: display.insert(END, key)\n",
    "\n",
    "window = Tk()\n",
    "window.title('My caculator')\n",
    "display = Entry(window, width = 50, bg = 'yellow')\n",
    "display.grid(row = 0, column = 0, columnspan = 5)\n",
    "\n",
    "button_list = '7,8,9,/,C,4,5,6,*,%,1,2,3,-,**,0,.,=,+,←'.split(',')\n",
    "row_index = 1\n",
    "\n",
    "for button_text in button_list:\n",
    "    col_index = button_list.index(button_text)\n",
    "    if col_index % 5 == 0: row_index += 1\n",
    "    btn = Button(window, text=button_text, width = 9, height = 2\\\n",
    "                 ,command = lambda x = button_text : click(x))\\\n",
    "                .grid(row = row_index, column = col_index % 5)\n",
    "\n",
    "window.mainloop()"
   ]
  },
  {
   "cell_type": "code",
   "execution_count": 17,
   "metadata": {},
   "outputs": [],
   "source": [
    "import tkinter.messagebox as tm\n",
    "\n",
    "\n",
    "def save():\n",
    "    file = asksaveasfile(parent = window2, mode = 'w')\n",
    "    if file != None:\n",
    "        lines = text.get('0.0', END + '-1c')\n",
    "        file.write(lines)\n",
    "        file.close()\n",
    "        \n",
    "def open():\n",
    "    file = askopenfile(parent = window2, mode = 'r')\n",
    "    if file != None:\n",
    "        text.delete('0.0', END + '-1c')\n",
    "        lines = file.read()\n",
    "        text.insert('0.0', lines)\n",
    "        file.close()\n",
    "    \n",
    "def exit():\n",
    "    if tm.askokcancel(\"종료\", \"메모장을 종료하시겠습니까?\"): window2.destroy()\n",
    "    \n",
    "def helpInfo():\n",
    "    tm.showinfo(\"프로그램 정보\", \"이름 : 신희수\\n날짜 : 12.18\\n버전 : 1.0\")\n",
    "    \n",
    "def newOpen():\n",
    "    if text.get('0.0', END + '-1c'): \n",
    "        msg = tm.askyesnocancel(\"나의 메모장\", \"저장하시겠습니까?\")\n",
    "        if msg: save()\n",
    "        elif msg == None: return\n",
    "        else : text.delete('0.0', END + '-1c'); return\n",
    "    \n",
    "window2 = Tk()\n",
    "window2.title('QQ')\n",
    "mymenu = Menu(window2)\n",
    "window2.config(menu = mymenu)\n",
    "text = Text(window2, height = 30, width = 80)\n",
    "text.pack()\n",
    "\n",
    "filemenu = Menu(mymenu)\n",
    "mymenu.add_cascade(label=\"파일\", menu=filemenu)\n",
    "filemenu.add_command(label=\"새로만들기\", command = newOpen)\n",
    "filemenu.add_command(label=\"열기\", command = open)\n",
    "filemenu.add_command(label=\"저장하기\", command = save)\n",
    "filemenu.add_command(label=\"종료\", command = exit)\n",
    "\n",
    "helpmenu = Menu(mymenu)\n",
    "mymenu.add_cascade(label=\"도움말\", menu=helpmenu)\n",
    "helpmenu.add_command(label=\"프로그램 정보\", command = helpInfo)\n",
    "\n",
    "\n",
    "window2.mainloop()"
   ]
  },
  {
   "cell_type": "code",
   "execution_count": 156,
   "metadata": {},
   "outputs": [
    {
     "data": {
      "text/plain": [
       "dict_keys(['a', 'b', 'c'])"
      ]
     },
     "execution_count": 156,
     "metadata": {},
     "output_type": "execute_result"
    }
   ],
   "source": [
    "a = {'a':1, 'b':2, 'c':3}\n",
    "a.keys()"
   ]
  },
  {
   "cell_type": "markdown",
   "metadata": {},
   "source": [
    "##### 순차 탐색"
   ]
  },
  {
   "cell_type": "code",
   "execution_count": 32,
   "metadata": {},
   "outputs": [
    {
     "name": "stdout",
     "output_type": "stream",
     "text": [
      "number : 58\n",
      "4\n"
     ]
    }
   ],
   "source": [
    "def func(lst, findNumber):\n",
    "    for i in range(len(lst)):\n",
    "        if findNumber == lst[i] : print(i); break\n",
    "    \n",
    "lst = [17, 92, 18, 33, 58, 5, 33, 42]\n",
    "findNumber = int(input('number : '))\n",
    "func(lst, findNumber)"
   ]
  },
  {
   "cell_type": "markdown",
   "metadata": {},
   "source": [
    "##### 순차탐색 -1"
   ]
  },
  {
   "cell_type": "code",
   "execution_count": 36,
   "metadata": {},
   "outputs": [
    {
     "name": "stdout",
     "output_type": "stream",
     "text": [
      "number : 33\n"
     ]
    },
    {
     "data": {
      "text/plain": [
       "[3, 6]"
      ]
     },
     "execution_count": 36,
     "metadata": {},
     "output_type": "execute_result"
    }
   ],
   "source": [
    "def func(lst, findNumber):\n",
    "    answer = []\n",
    "    for i in range(len(lst)):\n",
    "        if findNumber == lst[i] : answer.append(i)\n",
    "    \n",
    "    return answer\n",
    "    \n",
    "lst = [17, 92, 18, 33, 58, 5, 33, 42]\n",
    "findNumber = int(input('number : '))\n",
    "func(lst, findNumber)"
   ]
  },
  {
   "cell_type": "markdown",
   "metadata": {},
   "source": [
    "##### 순차탐색 -2"
   ]
  },
  {
   "cell_type": "code",
   "execution_count": 40,
   "metadata": {},
   "outputs": [
    {
     "name": "stdout",
     "output_type": "stream",
     "text": [
      "number : 23\n"
     ]
    },
    {
     "data": {
      "text/plain": [
       "'?'"
      ]
     },
     "execution_count": 40,
     "metadata": {},
     "output_type": "execute_result"
    }
   ],
   "source": [
    "def func(lst, num):\n",
    "    if num in lst : return lst[num]\n",
    "    else : return '?'\n",
    "\n",
    "studentList = {39 : 'Justin', 14 : 'John', 67 : 'Mike', 105 : 'Summer'}\n",
    "findNumber = int(input('number : '))\n",
    "func(studentList, findNumber)"
   ]
  },
  {
   "cell_type": "markdown",
   "metadata": {},
   "source": [
    "##### 선택정렬"
   ]
  },
  {
   "cell_type": "code",
   "execution_count": 53,
   "metadata": {},
   "outputs": [
    {
     "data": {
      "text/plain": [
       "[1, 2, 3, 5, 7]"
      ]
     },
     "execution_count": 53,
     "metadata": {},
     "output_type": "execute_result"
    }
   ],
   "source": [
    "def func(lst):\n",
    "    result = []\n",
    "    for i in range(len(lst)):\n",
    "        result.append(min(lst))\n",
    "        del lst[lst.index(min(lst))]\n",
    "    return result\n",
    "\n",
    "lst = [3, 5, 1, 7, 2]\n",
    "func(lst)"
   ]
  },
  {
   "cell_type": "code",
   "execution_count": 78,
   "metadata": {},
   "outputs": [
    {
     "name": "stdout",
     "output_type": "stream",
     "text": [
      "13 45 3\n",
      "33\n"
     ]
    }
   ],
   "source": [
    "#!/bin/python3\n",
    "\n",
    "import math\n",
    "import os\n",
    "import random\n",
    "import re\n",
    "import sys\n",
    "\n",
    "# Complete the beautifulDays function below.\n",
    "def beautifulDays(i, j, k):\n",
    "    lst = [i]\n",
    "    index = 0\n",
    "    \n",
    "    while 1:\n",
    "        i += 1\n",
    "        lst.append(i)\n",
    "        if i == j: break\n",
    "    \n",
    "    rLst = list(map(str, lst))\n",
    "    for i in range(len(rLst)):\n",
    "        rLst[i] = rLst[i][::-1]\n",
    "        if abs(lst[i] - int(rLst[i])) % k == 0 : index += 1\n",
    "    \n",
    "    return index\n",
    "            \n",
    "if __name__ == '__main__':\n",
    "    ijk = input().split()\n",
    "    i = int(ijk[0])\n",
    "    j = int(ijk[1])\n",
    "    k = int(ijk[2])\n",
    "\n",
    "    result = beautifulDays(i, j, k)\n",
    "    print(result)\n"
   ]
  },
  {
   "cell_type": "code",
   "execution_count": null,
   "metadata": {},
   "outputs": [],
   "source": []
  }
 ],
 "metadata": {
  "kernelspec": {
   "display_name": "Python 3",
   "language": "python",
   "name": "python3"
  },
  "language_info": {
   "codemirror_mode": {
    "name": "ipython",
    "version": 3
   },
   "file_extension": ".py",
   "mimetype": "text/x-python",
   "name": "python",
   "nbconvert_exporter": "python",
   "pygments_lexer": "ipython3",
   "version": "3.7.5"
  }
 },
 "nbformat": 4,
 "nbformat_minor": 2
}
